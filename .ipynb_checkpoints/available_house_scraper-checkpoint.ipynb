{
 "cells": [
  {
   "cell_type": "code",
   "execution_count": 14,
   "metadata": {},
   "outputs": [],
   "source": [
    "import ssl\n",
    "from bs4 import BeautifulSoup\n",
    "from urllib.request import Request, urlopen\n",
    "import re\n",
    "import time\n",
    "import re\n",
    "import statistics\n",
    "import matplotlib.pyplot as py\n",
    "import pandas as pd "
   ]
  },
  {
   "cell_type": "code",
   "execution_count": 34,
   "metadata": {},
   "outputs": [],
   "source": [
    "def get_links(pages = 1):\n",
    "    #gets the links from trulia properties page \n",
    "    # if length of list is zero, captcha blocked request so use a new VPN location \n",
    "    #pages: number of pages of trula to scrape\n",
    "    #returns: list of links\n",
    "    ctx = ssl.create_default_context()\n",
    "    ctx.check_hostname = False\n",
    "    ctx.verify_mode = ssl.CERT_NONE\n",
    "    i = 0\n",
    "    property_links = []\n",
    "    while i < pages:\n",
    "        url = 'https://www.trulia.com/NY/New_York/' + \"%s_p/\"%str(i)\n",
    "        print(url)\n",
    "        req = Request(url, headers={\"User-Agent\": 'Mozilla/5.0'})\n",
    "        webpage = urlopen(req).read()\n",
    "        #print(webpage)\n",
    "        soup = BeautifulSoup(webpage , 'html.parser')\n",
    "        #print(soup)\n",
    "        for link in soup.findAll('a'):\n",
    "            #print(link)\n",
    "            l = str(link.get('href'))\n",
    "            if sum(map(str.isdigit, l[-17:])) == 15: property_links.append(\"https://www.trulia.com\" + l)\n",
    "        property_links = property_links[::2]\n",
    "        print(\"finishing loop\" + \" \" + str(i+1))\n",
    "        i += 1\n",
    "        time.sleep(5)            \n",
    "    print(property_links)\n",
    "    return(property_links)"
   ]
  },
  {
   "cell_type": "code",
   "execution_count": 35,
   "metadata": {},
   "outputs": [
    {
     "name": "stdout",
     "output_type": "stream",
     "text": [
      "https://www.trulia.com/NY/New_York/0_p/\n",
      "finishing loop 1\n",
      "https://www.trulia.com/NY/New_York/1_p/\n",
      "finishing loop 2\n",
      "https://www.trulia.com/NY/New_York/2_p/\n",
      "finishing loop 3\n",
      "https://www.trulia.com/NY/New_York/3_p/\n",
      "finishing loop 4\n",
      "https://www.trulia.com/NY/New_York/4_p/\n",
      "finishing loop 5\n",
      "['https://www.trulia.com/p/ny/new-york/375-w-end-ave-new-york-ny-10024--2345984913', 'https://www.trulia.com/p/ny/brooklyn/601-e-19th-st-2m-brooklyn-ny-11226--2478440488', 'https://www.trulia.com/p/ny/bronx/724-e-217th-st-4b-bronx-ny-10467--2088937674', 'https://www.trulia.com/p/ny/new-york/305-2nd-ave-332-new-york-ny-10003--2008546124', 'https://www.trulia.com/p/ny/brooklyn/1558-e-19th-st-4e-brooklyn-ny-11230--2172922472', 'https://www.trulia.com/p/ny/flushing/199-puritan-ave-flushing-ny-11375--2159022034', 'https://www.trulia.com/p/ny/flushing/6418-utopia-pkwy-flushing-ny-11365--2410562825', 'https://www.trulia.com/p/ny/brooklyn/86-green-st-4-brooklyn-ny-11222--2174417640', 'https://www.trulia.com/p/ny/flushing/136-18-maple-ave-17d-flushing-ny-11355--2617849326', 'https://www.trulia.com/p/ny/new-york/132-e-35th-st-13e-new-york-ny-10016--2478554748', 'https://www.trulia.com/p/ny/brooklyn/225-eastern-pkwy-5k-brooklyn-ny-11238--2191204047', 'https://www.trulia.com/p/ny/long-island-city/4630-center-blvd-202-long-island-city-ny-11109--2009524646', 'https://www.trulia.com/p/ny/brooklyn/609-e-23rd-st-brooklyn-ny-11210--2088987053', 'https://www.trulia.com/p/ny/new-york/130-bradhurst-ave-802-new-york-ny-10039--2174706371', 'https://www.trulia.com/p/ny/rego-park/65-65-wetherole-st-4n-rego-park-ny-11374--2313634474', 'https://www.trulia.com/p/ny/new-york/250-e-21st-st-11b-new-york-ny-10010--2590663241', 'https://www.trulia.com/p/ny/staten-island/14-heusden-st-staten-island-ny-10303--2008738089', 'https://www.trulia.com/p/ny/new-york/64-e-111th-st-705-new-york-ny-10029--2332252263', 'https://www.trulia.com/p/ny/bronx/666-e-223rd-st-bronx-ny-10466--1006318745', 'https://www.trulia.com/p/ny/brooklyn/115-york-st-11h-brooklyn-ny-11201--2568100492', 'https://www.trulia.com/p/ny/new-york/38-delancey-st-4a-new-york-ny-10002--2008538850', 'https://www.trulia.com/p/ny/brooklyn/76-meserole-ave-brooklyn-ny-11222--2009773788', 'https://www.trulia.com/p/ny/brooklyn/26-avenue-p-3a-brooklyn-ny-11204--2347185857', 'https://www.trulia.com/p/ny/brooklyn/2056-e-53rd-pl-brooklyn-ny-11234--2089023460', 'https://www.trulia.com/p/ny/rockaway-park/167-beach-112-st-rockaway-park-ny-11694--2121434249', 'https://www.trulia.com/p/ny/flushing/144-48-roosevelt-ave-3d-flushing-ny-11354--2397322717', 'https://www.trulia.com/p/ny/saint-albans/120-201st-st-saint-albans-ny-11412--2368574909', 'https://www.trulia.com/p/ny/new-york/140-e-56th-st-4a-new-york-ny-10022--2088857840', 'https://www.trulia.com/p/ny/brooklyn/100-ocean-pkwy-5c-brooklyn-ny-11218--2332000524', 'https://www.trulia.com/p/ny/brooklyn/2306-e-3rd-st-brooklyn-ny-11223--2088999588', 'https://www.trulia.com/p/ny/brooklyn/217-franklin-st-1-brooklyn-ny-11222--2617837011', 'https://www.trulia.com/p/ny/new-york/301-w-108th-st-10f-new-york-ny-10025--2332595046', 'https://www.trulia.com/p/ny/brooklyn/4113-7th-ave-1-brooklyn-ny-11232--2346124955', 'https://www.trulia.com/p/ny/new-york/225-e-74th-st-2j-new-york-ny-10021--2478376678', 'https://www.trulia.com/p/ny/jamaica/13913-glassboro-ave-jamaica-ny-11435--2010266964', 'https://www.trulia.com/p/ny/brooklyn/1201-ovington-ave-brooklyn-ny-11219--2009735702', 'https://www.trulia.com/home/25-Inez-St-Staten-Island-NY-10309-2060618494', 'https://www.trulia.com/p/ny/staten-island/32-adrianne-ln-staten-island-ny-10303--2008740959', 'https://www.trulia.com/p/ny/staten-island/14-sandgap-st-staten-island-ny-10312--2008824182', 'https://www.trulia.com/p/ny/new-york/20-river-ter-27d-new-york-ny-10282--2175588613', 'https://www.trulia.com/p/ny/flushing/6750-thornton-pl-2b-flushing-ny-11375--2192124012', 'https://www.trulia.com/p/ny/brooklyn/11-brighton-10th-path-brooklyn-ny-11235--2009864550', 'https://www.trulia.com/p/ny/new-york/450-washington-st-503-new-york-ny-10013--2617835140', 'https://www.trulia.com/p/ny/new-york/300-w-30th-st-9d-new-york-ny-10001--2575661577', 'https://www.trulia.com/p/ny/new-york/20-river-ter-28c-new-york-ny-10282--2250257483', 'https://www.trulia.com/p/ny/new-york/450-washington-st-305-new-york-ny-10013--2504587350', 'https://www.trulia.com/p/ny/new-york/209-w-118th-st-1h-new-york-ny-10026--2411585492', 'https://www.trulia.com/p/ny/new-york/2166-broadway-22b-new-york-ny-10024--2334361633', 'https://www.trulia.com/p/ny/bronx/1130-vincent-ave-bronx-ny-10465--2008929588', 'https://www.trulia.com/p/ny/ozone-park/107-17-86th-st-ozone-park-ny-11417--2560440601', 'https://www.trulia.com/p/ny/little-neck/240-57-68th-ave-little-neck-ny-11362--2197510430', 'https://www.trulia.com/p/ny/new-york/450-washington-st-318-new-york-ny-10013--2617834920', 'https://www.trulia.com/p/ny/new-york/165-e-32nd-st-14a-new-york-ny-10016--2231190960', 'https://www.trulia.com/p/ny/new-york/319-w-18th-st-2c-new-york-ny-10011--2192099308', 'https://www.trulia.com/p/ny/new-york/100-united-nations-plz-38b-new-york-ny-10017--2008632959', 'https://www.trulia.com/p/ny/new-york/188-e-70th-st-18d-new-york-ny-10021--2088853547', 'https://www.trulia.com/p/ny/bronx/643-underhill-ave-bronx-ny-10473--2008979501', 'https://www.trulia.com/p/ny/new-york/15-william-st-19a-new-york-ny-10005--2008554709', 'https://www.trulia.com/p/ny/new-york/220-w-148th-st-5j-new-york-ny-10039--2088905243', 'https://www.trulia.com/p/ny/brooklyn/1054-e-100th-st-brooklyn-ny-11236--2089031238', 'https://www.trulia.com/p/ny/cambria-heights/115-47-223rd-st-cambria-heights-ny-11411--2010125241', 'https://www.trulia.com/p/ny/brooklyn/58-strong-pl-3f-brooklyn-ny-11231--2230176881', 'https://www.trulia.com/p/ny/new-york/300-w-122nd-st-7l-new-york-ny-10027--2544385247', 'https://www.trulia.com/p/ny/new-york/347-e-53rd-st-8c-new-york-ny-10022--2478382120', 'https://www.trulia.com/p/ny/new-york/457-w-57th-st-509-new-york-ny-10019--2345950840', 'https://www.trulia.com/p/ny/brooklyn/732-belmont-ave-brooklyn-ny-11208--2009629043', 'https://www.trulia.com/p/ny/flushing/3640-204th-st-flushing-ny-11361--2009974009', 'https://www.trulia.com/p/ny/new-york/60-e-55th-st-20a-new-york-ny-10022--2088862019', 'https://www.trulia.com/p/ny/brooklyn/1-clinton-st-4e-brooklyn-ny-11201--2434916807', 'https://www.trulia.com/p/ny/jamaica/10216-187th-st-jamaica-ny-11423--2010209909', 'https://www.trulia.com/p/ny/staten-island/14-ludlow-st-staten-island-ny-10312--2008824147', 'https://www.trulia.com/p/ny/staten-island/279-mcbaine-ave-staten-island-ny-10309--2008807150', 'https://www.trulia.com/p/ny/staten-island/251-bryant-ave-staten-island-ny-10306--2008776934', 'https://www.trulia.com/p/ny/staten-island/18-shawnee-st-staten-island-ny-10301--2008723849', 'https://www.trulia.com/p/ny/staten-island/134-clinton-pl-staten-island-ny-10302--2008732448', 'https://www.trulia.com/p/ny/staten-island/106-sylvia-st-staten-island-ny-10312--2008821729', 'https://www.trulia.com/p/ny/new-york/450-washington-st-809-new-york-ny-10013--2617832198']\n"
     ]
    }
   ],
   "source": [
    "links = get_links(pages = 5)\n",
    "feature_dict_list = {}\n",
    "all_features = []\n",
    "all_links = []"
   ]
  },
  {
   "cell_type": "code",
   "execution_count": 6,
   "metadata": {},
   "outputs": [],
   "source": [
    "for index,url in enumerate(links): #iterates through all URLs from the get_links func\n",
    "    req = Request(url, headers={'User-Agent': 'Mozilla/5.0'})\n",
    "    webpage = urlopen(req).read()  \n",
    "    soup = BeautifulSoup(webpage, 'html.parser')\n",
    "    html = soup.prettify('utf-8')\n",
    "    feature_dict = {}\n",
    "\n",
    "    for sou in soup.findAll('span', attrs={\"class\":\"Feature__FeatureListItem-sc-w1mxt5-0 gmLKqq\"}):\n",
    "        clean_data = str(sou).split(\"gmLKqq\\\">\")\n",
    "        clean_data = clean_data[1].split(\"</span>\")[0]\n",
    "        dict_info = clean_data.split(':')\n",
    "        if len(dict_info)>1:\n",
    "            feature_dict[dict_info[0]] = dict_info[1]\n",
    "\n",
    "    all_features.append(feature_dict);all_links.append(url)\n",
    "\n"
   ]
  },
  {
   "cell_type": "code",
   "execution_count": 9,
   "metadata": {},
   "outputs": [
    {
     "data": {
      "text/plain": [
       "[]"
      ]
     },
     "execution_count": 9,
     "metadata": {},
     "output_type": "execute_result"
    }
   ],
   "source": [
    "all_features"
   ]
  },
  {
   "cell_type": "code",
   "execution_count": 8,
   "metadata": {},
   "outputs": [
    {
     "data": {
      "text/html": [
       "<div>\n",
       "<style scoped>\n",
       "    .dataframe tbody tr th:only-of-type {\n",
       "        vertical-align: middle;\n",
       "    }\n",
       "\n",
       "    .dataframe tbody tr th {\n",
       "        vertical-align: top;\n",
       "    }\n",
       "\n",
       "    .dataframe thead th {\n",
       "        text-align: right;\n",
       "    }\n",
       "</style>\n",
       "<table border=\"1\" class=\"dataframe\">\n",
       "  <thead>\n",
       "    <tr style=\"text-align: right;\">\n",
       "      <th></th>\n",
       "    </tr>\n",
       "  </thead>\n",
       "  <tbody>\n",
       "  </tbody>\n",
       "</table>\n",
       "</div>"
      ],
      "text/plain": [
       "Empty DataFrame\n",
       "Columns: []\n",
       "Index: []"
      ]
     },
     "execution_count": 8,
     "metadata": {},
     "output_type": "execute_result"
    }
   ],
   "source": [
    "df = pd.DataFrame.from_dict(all_features)\n",
    "pd.set_option('display.max_columns', None)\n",
    "df"
   ]
  },
  {
   "cell_type": "code",
   "execution_count": null,
   "metadata": {},
   "outputs": [],
   "source": [
    "for house in all_features:\n",
    "    for f in house:\n",
    "        dict_key,dict_value = f.split(':')"
   ]
  },
  {
   "cell_type": "code",
   "execution_count": 62,
   "metadata": {},
   "outputs": [],
   "source": [
    "# For ignoring SSL certificate errors  (reused code)\n",
    "\n",
    "ctx = ssl.create_default_context()\n",
    "ctx.check_hostname = False\n",
    "ctx.verify_mode = ssl.CERT_NONE"
   ]
  },
  {
   "cell_type": "code",
   "execution_count": 63,
   "metadata": {},
   "outputs": [],
   "source": [
    "#url = input(\"Enter URL: \")\n",
    "url = 'https://www.trulia.com/p/ny/staten-island/365-victory-blvd-staten-island-ny-10301--2008726710'"
   ]
  },
  {
   "cell_type": "code",
   "execution_count": 28,
   "metadata": {},
   "outputs": [],
   "source": [
    "# Use Mozilla access agent\n",
    "\n",
    "req = Request(url, headers={'User-Agent': 'Mozilla/5.0'})\n",
    "webpage = urlopen(req).read()"
   ]
  },
  {
   "cell_type": "code",
   "execution_count": 29,
   "metadata": {},
   "outputs": [],
   "source": [
    "# Creating a BeautifulSoup object of the html page for easy extraction of data.\n",
    "\n",
    "soup = BeautifulSoup(webpage, 'html.parser')\n",
    "html = soup.prettify('utf-8')\n",
    "property_info = {}"
   ]
  },
  {
   "cell_type": "code",
   "execution_count": 30,
   "metadata": {},
   "outputs": [
    {
     "ename": "KeyError",
     "evalue": "'description'",
     "output_type": "error",
     "traceback": [
      "\u001b[0;31m---------------------------------------------------------------------------\u001b[0m",
      "\u001b[0;31mKeyError\u001b[0m                                  Traceback (most recent call last)",
      "Cell \u001b[0;32mIn [30], line 10\u001b[0m\n\u001b[1;32m      7\u001b[0m     \u001b[38;5;28;01mexcept\u001b[39;00m: \n\u001b[1;32m      8\u001b[0m         \u001b[38;5;28;01mpass\u001b[39;00m\n\u001b[0;32m---> 10\u001b[0m \u001b[43mproperty_info\u001b[49m\u001b[43m[\u001b[49m\u001b[38;5;124;43m'\u001b[39;49m\u001b[38;5;124;43mdescription\u001b[39;49m\u001b[38;5;124;43m'\u001b[39;49m\u001b[43m]\u001b[49m\n",
      "\u001b[0;31mKeyError\u001b[0m: 'description'"
     ]
    }
   ],
   "source": [
    "# This code block will get you a one liner description of the listed property\n",
    "\n",
    "for meta in soup.findAll('meta', attrs={'name': 'description'}):\n",
    "    try:\n",
    "        property_info['description'] = meta['content']\n",
    "        break\n",
    "    except: \n",
    "        pass\n",
    "\n",
    "property_info['description']"
   ]
  },
  {
   "cell_type": "code",
   "execution_count": 31,
   "metadata": {},
   "outputs": [
    {
     "data": {
      "text/plain": [
       "'https://www.trulia.com/p/ny/new-york/309-e-houston-st-1a-new-york-ny-10002--2478352572'"
      ]
     },
     "execution_count": 31,
     "metadata": {},
     "output_type": "execute_result"
    }
   ],
   "source": [
    "#Store url \n",
    "\n",
    "property_info['link'] = url\n",
    "\n",
    "property_info['link']"
   ]
  },
  {
   "cell_type": "code",
   "execution_count": 33,
   "metadata": {},
   "outputs": [
    {
     "data": {
      "text/plain": [
       "{'link': 'https://www.trulia.com/p/ny/new-york/309-e-houston-st-1a-new-york-ny-10002--2478352572'}"
      ]
     },
     "execution_count": 33,
     "metadata": {},
     "output_type": "execute_result"
    }
   ],
   "source": [
    "#Get beds, baths, floorspace\n",
    "\n",
    "for bed_html in soup.findAll('div', attrs={'data-testid':\"home-summary-size-bedrooms\"}):\n",
    "    number_beds = re.findall(r\"[0-9]+\\s[bB]eds*\", str(bed_html))\n",
    "    if number_beds:\n",
    "        property_info[\"beds\"] = int(number_beds[0].split(\" \")[0])\n",
    "\n",
    "for bath_html in soup.findAll('div', attrs={'data-testid':\"home-summary-size-bathrooms\"}):\n",
    "    number_baths = re.findall(r\"[0-9]+\\s[bB]aths*\", str(bath_html))\n",
    "    if number_baths:\n",
    "        property_info[\"baths\"] = int(number_baths[0].split(\" \")[0])\n",
    "\n",
    "for floor_html in soup.findAll('div', attrs={'data-testid':\"home-summary-size-floorspace\"}):\n",
    "    floor_footage = re.findall(r\"[0-9]+,[0-9]+\\ssqft*\", str(floor_html))\n",
    "    property_info[\"floor_space\"] = {}\n",
    "    if floor_footage:\n",
    "        property_info[\"floor_space\"][\"value\"] = int(floor_footage[0].split(\" \")[0].replace(\",\", \"\"))\n",
    "        property_info[\"floor_space\"][\"unit\"] = floor_footage[0].split(\" \")[1]\n",
    "\n",
    "property_info\n"
   ]
  },
  {
   "cell_type": "code",
   "execution_count": 69,
   "metadata": {},
   "outputs": [
    {
     "data": {
      "text/plain": [
       "'Lot Area: 3001 sqft'"
      ]
     },
     "execution_count": 69,
     "metadata": {},
     "output_type": "execute_result"
    }
   ],
   "source": [
    "#Extracts features for given house\n",
    "for index, sou in enumerate(soup.findAll('span', attrs={\"class\":\"Feature__FeatureListItem-sc-w1mxt5-0 gmLKqq\"})):\n",
    "    clean_data = str(sou).split(\"gmLKqq\\\">\")\n",
    "    clean_data = clean_data[1].split(\"</span>\")[0]\n",
    "clean_data"
   ]
  }
 ],
 "metadata": {
  "interpreter": {
   "hash": "24e04ac6381ae14c7283d3039b3eae55e580ec44d8ad9834709c61b9be756f0a"
  },
  "kernelspec": {
   "display_name": "Python 3",
   "language": "python",
   "name": "python3"
  },
  "language_info": {
   "codemirror_mode": {
    "name": "ipython",
    "version": 3
   },
   "file_extension": ".py",
   "mimetype": "text/x-python",
   "name": "python",
   "nbconvert_exporter": "python",
   "pygments_lexer": "ipython3",
   "version": "3.9.12"
  },
  "vscode": {
   "interpreter": {
    "hash": "978aba30ef2e336260338d4a3e61c9d4e24765bf9dea0639d3bd4087679dac9a"
   }
  }
 },
 "nbformat": 4,
 "nbformat_minor": 4
}
