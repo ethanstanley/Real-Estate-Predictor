{
 "cells": [
  {
   "cell_type": "code",
   "execution_count": 41,
   "metadata": {},
   "outputs": [],
   "source": [
    "import ssl\n",
    "from bs4 import BeautifulSoup\n",
    "from urllib.request import Request, urlopen\n",
    "import re"
   ]
  },
  {
   "cell_type": "code",
   "execution_count": 20,
   "metadata": {},
   "outputs": [],
   "source": [
    "# For ignoring SSL certificate errors  (reused code)\n",
    "\n",
    "ctx = ssl.create_default_context()\n",
    "ctx.check_hostname = False\n",
    "ctx.verify_mode = ssl.CERT_NONE"
   ]
  },
  {
   "cell_type": "code",
   "execution_count": 25,
   "metadata": {},
   "outputs": [],
   "source": [
    "#url = input(\"Enter URL: \")\n",
    "url = 'https://www.trulia.com/p/ma/west-roxbury/88-glenellen-rd-west-roxbury-ma-02132--2001575814'"
   ]
  },
  {
   "cell_type": "code",
   "execution_count": 27,
   "metadata": {},
   "outputs": [],
   "source": [
    "# Use Mozilla access agent\n",
    "\n",
    "req = Request(url, headers={'User-Agent': 'Mozilla/5.0'})\n",
    "webpage = urlopen(req).read()"
   ]
  },
  {
   "cell_type": "code",
   "execution_count": 36,
   "metadata": {},
   "outputs": [],
   "source": [
    "# Creating a BeautifulSoup object of the html page for easy extraction of data.\n",
    "\n",
    "soup = BeautifulSoup(webpage, 'html.parser')\n",
    "html = soup.prettify('utf-8')\n",
    "property_info = {}"
   ]
  },
  {
   "cell_type": "code",
   "execution_count": 37,
   "metadata": {},
   "outputs": [
    {
     "data": {
      "text/plain": [
       "'88 Glenellen Rd, West Roxbury, MA 02132 was recently sold on 08-26-2022 for $445,000. See home details for 88 Glenellen Rd and find similar homes for sale now in West Roxbury, MA on Trulia.'"
      ]
     },
     "execution_count": 37,
     "metadata": {},
     "output_type": "execute_result"
    }
   ],
   "source": [
    "# This code block will get you a one liner description of the listed property\n",
    "\n",
    "for meta in soup.findAll('meta', attrs={'name': 'description'}):\n",
    "    try:\n",
    "        property_info['description'] = meta['content']\n",
    "        break\n",
    "    except: \n",
    "        pass\n",
    "\n",
    "property_info['description']"
   ]
  },
  {
   "cell_type": "code",
   "execution_count": 38,
   "metadata": {},
   "outputs": [
    {
     "data": {
      "text/plain": [
       "'https://www.trulia.com/p/ma/west-roxbury/88-glenellen-rd-west-roxbury-ma-02132--2001575814'"
      ]
     },
     "execution_count": 38,
     "metadata": {},
     "output_type": "execute_result"
    }
   ],
   "source": [
    "#Store url \n",
    "\n",
    "property_info['link'] = url\n",
    "\n",
    "property_info['link']"
   ]
  },
  {
   "cell_type": "code",
   "execution_count": 52,
   "metadata": {},
   "outputs": [
    {
     "data": {
      "text/plain": [
       "{'description': '88 Glenellen Rd, West Roxbury, MA 02132 was recently sold on 08-26-2022 for $445,000. See home details for 88 Glenellen Rd and find similar homes for sale now in West Roxbury, MA on Trulia.',\n",
       " 'link': 'https://www.trulia.com/p/ma/west-roxbury/88-glenellen-rd-west-roxbury-ma-02132--2001575814',\n",
       " 'beds': 2,\n",
       " 'baths': 2,\n",
       " 'floor_space': {'value': 1306, 'unit': 'sqft'}}"
      ]
     },
     "execution_count": 52,
     "metadata": {},
     "output_type": "execute_result"
    }
   ],
   "source": [
    "#Get beds, baths, floorspace\n",
    "\n",
    "for bed_html in soup.findAll('div', attrs={'data-testid':\"home-summary-size-bedrooms\"}):\n",
    "    number_beds = re.findall(r\"[0-9]+\\s[bB]eds*\", str(bed_html))\n",
    "    if number_beds:\n",
    "        property_info[\"beds\"] = int(number_beds[0].split(\" \")[0])\n",
    "\n",
    "for bath_html in soup.findAll('div', attrs={'data-testid':\"home-summary-size-bathrooms\"}):\n",
    "    number_baths = re.findall(r\"[0-9]+\\s[bB]aths*\", str(bath_html))\n",
    "    if number_baths:\n",
    "        property_info[\"baths\"] = int(number_baths[0].split(\" \")[0])\n",
    "\n",
    "for floor_html in soup.findAll('div', attrs={'data-testid':\"home-summary-size-floorspace\"}):\n",
    "    floor_footage = re.findall(r\"[0-9]+,[0-9]+\\ssqft*\", str(floor_html))\n",
    "    property_info[\"floor_space\"] = {}\n",
    "    if floor_footage:\n",
    "        property_info[\"floor_space\"][\"value\"] = int(floor_footage[0].split(\" \")[0].replace(\",\", \"\"))\n",
    "        property_info[\"floor_space\"][\"unit\"] = floor_footage[0].split(\" \")[1]\n",
    "\n",
    "property_info"
   ]
  },
  {
   "cell_type": "code",
   "execution_count": 54,
   "metadata": {},
   "outputs": [
    {
     "name": "stdout",
     "output_type": "stream",
     "text": [
      "INDEX 0 :   <span class=\"Feature__FeatureListItem-sc-w1mxt5-0 gmLKqq\">Basement: Full</span>\n",
      "INDEX 1 :   <span class=\"Feature__FeatureListItem-sc-w1mxt5-0 gmLKqq\">Number of Rooms: 6</span>\n",
      "INDEX 2 :   <span class=\"Feature__FeatureListItem-sc-w1mxt5-0 gmLKqq\">Number of Bedrooms: 2</span>\n",
      "INDEX 3 :   <span class=\"Feature__FeatureListItem-sc-w1mxt5-0 gmLKqq\">Number of Bathrooms: 2</span>\n",
      "INDEX 4 :   <span class=\"Feature__FeatureListItem-sc-w1mxt5-0 gmLKqq\">Number of Bathrooms (full): 2</span>\n",
      "INDEX 5 :   <span class=\"Feature__FeatureListItem-sc-w1mxt5-0 gmLKqq\">Living Area: 1306 Square Feet</span>\n",
      "INDEX 6 :   <span class=\"Feature__FeatureListItem-sc-w1mxt5-0 gmLKqq\">Heating: Forced Air</span>\n",
      "INDEX 7 :   <span class=\"Feature__FeatureListItem-sc-w1mxt5-0 gmLKqq\">No Cooling</span>\n",
      "INDEX 8 :   <span class=\"Feature__FeatureListItem-sc-w1mxt5-0 gmLKqq\">Air Conditioning: None</span>\n",
      "INDEX 9 :   <span class=\"Feature__FeatureListItem-sc-w1mxt5-0 gmLKqq\">Has Heating</span>\n",
      "INDEX 10 :   <span class=\"Feature__FeatureListItem-sc-w1mxt5-0 gmLKqq\">Heating Fuel: Forced Air</span>\n",
      "INDEX 11 :   <span class=\"Feature__FeatureListItem-sc-w1mxt5-0 gmLKqq\">No Fireplace</span>\n",
      "INDEX 12 :   <span class=\"Feature__FeatureListItem-sc-w1mxt5-0 gmLKqq\">Electric: 100 Amp Service</span>\n",
      "INDEX 13 :   <span class=\"Feature__FeatureListItem-sc-w1mxt5-0 gmLKqq\">Roof: Shingle</span>\n",
      "INDEX 14 :   <span class=\"Feature__FeatureListItem-sc-w1mxt5-0 gmLKqq\">Patio / Porch: Patio</span>\n",
      "INDEX 15 :   <span class=\"Feature__FeatureListItem-sc-w1mxt5-0 gmLKqq\">Fencing: Fenced/Enclosed, Fenced</span>\n",
      "INDEX 16 :   <span class=\"Feature__FeatureListItem-sc-w1mxt5-0 gmLKqq\">Exterior: Rain Gutters, Storage</span>\n",
      "INDEX 17 :   <span class=\"Feature__FeatureListItem-sc-w1mxt5-0 gmLKqq\">Foundation: Concrete Perimeter</span>\n",
      "INDEX 18 :   <span class=\"Feature__FeatureListItem-sc-w1mxt5-0 gmLKqq\">No Garage</span>\n",
      "INDEX 19 :   <span class=\"Feature__FeatureListItem-sc-w1mxt5-0 gmLKqq\">Has Open Parking</span>\n",
      "INDEX 20 :   <span class=\"Feature__FeatureListItem-sc-w1mxt5-0 gmLKqq\">Parking Spaces: 1</span>\n",
      "INDEX 21 :   <span class=\"Feature__FeatureListItem-sc-w1mxt5-0 gmLKqq\">Parking: Paved Drive,Off Street</span>\n",
      "INDEX 22 :   <span class=\"Feature__FeatureListItem-sc-w1mxt5-0 gmLKqq\">Road Frontage: Public</span>\n",
      "INDEX 23 :   <span class=\"Feature__FeatureListItem-sc-w1mxt5-0 gmLKqq\">Responsible for Road Maintenance: Public Maintained Road</span>\n",
      "INDEX 24 :   <span class=\"Feature__FeatureListItem-sc-w1mxt5-0 gmLKqq\">Road Surface Type: Paved</span>\n",
      "INDEX 25 :   <span class=\"Feature__FeatureListItem-sc-w1mxt5-0 gmLKqq\">Not on Waterfront</span>\n",
      "INDEX 26 :   <span class=\"Feature__FeatureListItem-sc-w1mxt5-0 gmLKqq\">Sewer: Public Sewer</span>\n",
      "INDEX 27 :   <span class=\"Feature__FeatureListItem-sc-w1mxt5-0 gmLKqq\">Year Built: 1056</span>\n",
      "INDEX 28 :   <span class=\"Feature__FeatureListItem-sc-w1mxt5-0 gmLKqq\">Property Type: Residential</span>\n",
      "INDEX 29 :   <span class=\"Feature__FeatureListItem-sc-w1mxt5-0 gmLKqq\">Property Subtype: Single Family Residence</span>\n",
      "INDEX 30 :   <span class=\"Feature__FeatureListItem-sc-w1mxt5-0 gmLKqq\">Architecture: Cape</span>\n",
      "INDEX 31 :   <span class=\"Feature__FeatureListItem-sc-w1mxt5-0 gmLKqq\">Construction Materials: Frame</span>\n",
      "INDEX 32 :   <span class=\"Feature__FeatureListItem-sc-w1mxt5-0 gmLKqq\">Not Attached Property</span>\n",
      "INDEX 33 :   <span class=\"Feature__FeatureListItem-sc-w1mxt5-0 gmLKqq\">Parcel Number: 1436168</span>\n",
      "INDEX 34 :   <span class=\"Feature__FeatureListItem-sc-w1mxt5-0 gmLKqq\">List Price: $475,000</span>\n",
      "INDEX 35 :   <span class=\"Feature__FeatureListItem-sc-w1mxt5-0 gmLKqq\">Price Per Sqft: $341/sqft</span>\n",
      "INDEX 36 :   <span class=\"Feature__FeatureListItem-sc-w1mxt5-0 gmLKqq\">Off Market Date: Wed Jul 13 2022</span>\n",
      "INDEX 37 :   <span class=\"Feature__FeatureListItem-sc-w1mxt5-0 gmLKqq\">MLS Status: Sold</span>\n",
      "INDEX 38 :   <span class=\"Feature__FeatureListItem-sc-w1mxt5-0 gmLKqq\">City: Boston</span>\n",
      "INDEX 39 :   <span class=\"Feature__FeatureListItem-sc-w1mxt5-0 gmLKqq\">Building Area: 1306 Square Feet</span>\n",
      "INDEX 40 :   <span class=\"Feature__FeatureListItem-sc-w1mxt5-0 gmLKqq\">Community Features: Public Transportation, Shopping, Highway Access, Public School</span>\n",
      "INDEX 41 :   <span class=\"Feature__FeatureListItem-sc-w1mxt5-0 gmLKqq\">No HOA</span>\n",
      "INDEX 42 :   <span class=\"Feature__FeatureListItem-sc-w1mxt5-0 gmLKqq\">Lot Area: 5227.2 sqft</span>\n",
      "INDEX 43 :   <span class=\"Feature__FeatureListItem-sc-w1mxt5-0 gmLKqq\">Buyer Agency Commission: 2</span>\n",
      "INDEX 44 :   <span class=\"Feature__FeatureListItem-sc-w1mxt5-0 gmLKqq\">Buyer Agency Commission Type: See Remarks:</span>\n",
      "INDEX 45 :   <span class=\"Feature__FeatureListItem-sc-w1mxt5-0 gmLKqq\">Basement</span>\n"
     ]
    }
   ],
   "source": [
    "#Other known information, don't know how to process yet\n",
    "\n",
    "for index, sou in enumerate(soup.findAll('span', attrs={\"class\":\"Feature__FeatureListItem-sc-w1mxt5-0 gmLKqq\"})):\n",
    "    print(\"INDEX\", index, \":  \", sou)"
   ]
  },
  {
   "cell_type": "code",
   "execution_count": null,
   "metadata": {},
   "outputs": [],
   "source": []
  }
 ],
 "metadata": {
  "kernelspec": {
   "display_name": "Python 3",
   "language": "python",
   "name": "python3"
  },
  "language_info": {
   "codemirror_mode": {
    "name": "ipython",
    "version": 3
   },
   "file_extension": ".py",
   "mimetype": "text/x-python",
   "name": "python",
   "nbconvert_exporter": "python",
   "pygments_lexer": "ipython3",
   "version": "3.9.12"
  }
 },
 "nbformat": 4,
 "nbformat_minor": 4
}
