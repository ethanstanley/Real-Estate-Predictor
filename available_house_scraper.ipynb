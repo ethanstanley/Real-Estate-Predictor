{
 "cells": [
  {
   "cell_type": "code",
   "execution_count": 109,
   "source": [
    "import ssl\n",
    "from bs4 import BeautifulSoup\n",
    "from urllib.request import Request, urlopen\n",
    "import re\n",
    "import time\n",
    "import re\n",
    "import statistics"
   ],
   "outputs": [],
   "metadata": {}
  },
  {
   "cell_type": "code",
   "execution_count": null,
   "source": [
    "#To Do: get features and make data frame\n",
    "#Filter for houses with greater than 3 features"
   ],
   "outputs": [],
   "metadata": {}
  },
  {
   "cell_type": "code",
   "execution_count": 119,
   "source": [
    "def get_links(pages = 5):\n",
    "    #gets the links from trulia properties page \n",
    "    # if length of list is zero, captcha blocked request so use a new VPN location \n",
    "    #pages: number of pages of trula to scrape\n",
    "    #returns: list of links\n",
    "    ctx = ssl.create_default_context()\n",
    "    ctx.check_hostname = False\n",
    "    ctx.verify_mode = ssl.CERT_NONE\n",
    "    i = 0\n",
    "    property_links = []\n",
    "    while i < pages:\n",
    "        url = 'https://www.trulia.com/NY/New_York/' + \"%s_p/\"%str(i)\n",
    "        req = Request(url, headers={\"User-Agent\": 'Mozilla/5.0'})\n",
    "        webpage = urlopen(req).read()\n",
    "        soup = BeautifulSoup(webpage , 'html.parser')\n",
    "        for link in soup.findAll('a'):\n",
    "            l = str(link.get('href'))\n",
    "            if sum(map(str.isdigit, l[-17:])) == 15: property_links.append(\"https://www.trulia.com\" + l)\n",
    "        property_links = property_links[::2]\n",
    "        print(\"finishing loop\" + \" \" + str(i+1))\n",
    "        i += 1\n",
    "        time.sleep(5)\n",
    "        \n",
    "    return(property_links)"
   ],
   "outputs": [],
   "metadata": {}
  },
  {
   "cell_type": "code",
   "execution_count": null,
   "source": [
    "ctx = ssl.create_default_context()\n",
    "ctx.check_hostname = False\n",
    "ctx.verify_mode = ssl.CERT_NONE"
   ],
   "outputs": [],
   "metadata": {}
  },
  {
   "cell_type": "code",
   "execution_count": 138,
   "source": [
    "#mean feature test\n",
    "# if length of list is zero, captcha blocked request so use a new VPN location \n",
    "length = []\n",
    "for url in get_links():\n",
    "    req = Request(url, headers={'User-Agent': 'Mozilla/5.0'})\n",
    "    webpage = urlopen(req).read()  \n",
    "    soup = BeautifulSoup(webpage, 'html.parser')\n",
    "    html = soup.prettify('utf-8')\n",
    "    num_features = []\n",
    "\n",
    "    for index, sou in enumerate(soup.findAll('span', attrs={\"class\":\"Feature__FeatureListItem-sc-w1mxt5-0 gmLKqq\"})):\n",
    "        clean_data = str(sou).split(\"gmLKqq\\\">\")\n",
    "        clean_data = clean_data[1].split(\"</span>\")[0]\n",
    "        num_features.append(clean_data)\n",
    "    \n",
    "    if len(num_features) > 0: \n",
    "        print(num_features)\n",
    "        length.append(len(num_features))\n",
    "\n",
    "print(statistics.mean(length))"
   ],
   "outputs": [
    {
     "output_type": "stream",
     "name": "stdout",
     "text": [
      "finishing loop 1\n",
      "finishing loop 2\n",
      "finishing loop 3\n",
      "finishing loop 4\n",
      "finishing loop 5\n",
      "['Stories: 2.5', 'Days on Market: &lt;1 Day on Trulia', 'Year Built: 1930', 'Year Updated: 1930', 'Property Type: Single Family Home', 'Price Per Sqft: $181', 'Units in Building: 1', 'Lot Area: 4320 sqft']\n",
      "['Stories: 1', 'Days on Market: &lt;1 Day on Trulia', 'Year Built: 1940', 'Year Updated: 1940', 'Property Type: Single Family Home', 'Price Per Sqft: $780', 'Units in Building: 1', 'Lot Area: 4000 sqft']\n",
      "['Basement: None', 'Number of Rooms: 2', 'Number of Bathrooms: 1', 'Number of Bathrooms (full): 1', 'Living Area: 489 Square Feet', 'Utilities: Public Garbage Removal', 'Appliances: Oven, Refrigerator', 'Laundry: Common Area', 'Refrigerator', 'Heating: Electric', 'Has Cooling', 'Air Conditioning: Wall Unit(s)', 'Heating Fuel: Electric', 'Flooring: Hardwood', 'Common Walls: No Common Walls', 'Stories: 1', 'Number of Stories: 14', 'Levels: One', 'Elevator', 'Floors: Hardwood', 'Exterior: Balcony', 'Has a Garage', 'No Attached Garage', 'Has Open Parking', 'Parking: Assigned,Garage', 'Sewer: Public Sewer', 'Days on Market: &lt;1 Day on Trulia', 'Year Built: 1973', 'Property Type: Residential', 'Property Subtype: Condominium', 'Architecture: High Rise', 'Construction Materials: Other', 'Not a New Construction', 'Condition: MINT', 'Included in Sale: A/C Units, Refrigerator', 'Parcel Number: 06713-1033', 'List Price: $390,000', 'Price Per Sqft: $798', 'MLS Status: A', '<a href=\"https://www.tourbuzz.net/2073864?a=1\" rel=\"nofollow noreferrer\" target=\"_blank\">Virtual Tour (branded)</a>', '<a href=\"https://seehouseat.com/2073864?idx=1\" rel=\"nofollow noreferrer\" target=\"_blank\">See Virtual Tour</a>', 'City: Flushing', 'Community: Village Mall At Hillcres', 'Elementary School: Ps 101 School In The Gardens, Ps 121, Ps 144 Col Jeromus Remsen, Ps 161 Arthur Ashe School, Ps 174 William Sidney Mount, Ps 196 Grand Central Parkway, Ps 99 Kew Gardens', 'Elementary School District: Queens 28', 'Jr High / Middle School: Jhs 157 Stephen A Halsey', 'Jr High / Middle School District: Queens 28', 'High School: Queens High School Sci At York Coll', 'High School District: Queens 28', 'MLS/Source ID: 3444020', 'Builder Model: Alcove Studio', 'Community Features: Clubhouse, Pool, Trash Collection, Park', 'Not Senior Community', 'HOA Fee Includes: Maintenance Grounds, Exterior Maintenance, Sewer, Snow Removal, Trash, Gas, Hot Water, Pool Care', 'HOA Fee: $366/Monthly', 'Lot Area: 0.88 acres', 'Ownership: Condo', 'Attic: None', 'HOA Amenities: Doorman']\n",
      "['Days on Market: &lt;1 Day on Trulia', 'Year Built: 1952', 'Property Type: Coop', 'Dishwasher', 'Elevator', 'Garden', 'Price Per Sqft: $950', 'MLS/Source ID: 22152520', 'HOA Fee: $2,254/Monthly', 'Doorman', 'Doorman']\n",
      "['Basement: None', 'Number of Rooms: 5', 'Types of Rooms: Master Bedroom, Dining Room, Kitchen, Living Room', 'Number of Bedrooms: 1', 'Number of Bathrooms: 1', 'Number of Bathrooms (full): 1', 'Living Area: 773 Square Feet', 'Appliances: Dryer, Microwave, Refrigerator, Washer', 'Dryer', 'Microwave', 'Refrigerator', 'Washer', 'Heating: Steam,Natural Gas', 'No Cooling', 'Air Conditioning: None', 'Has Heating', 'Heating Fuel: Steam', 'Electric: 220 Volts', 'Stories: 1', 'Levels: 1.0', 'No Private Pool', 'No Carport', 'No Garage', 'No Attached Garage', 'Has Open Parking', 'Parking: No Garage,On Street', 'Sewer: Public Sewer', 'Days on Market: &lt;1 Day on Trulia', 'Year Built: 1931', 'Property Type: Residential', 'Property Subtype: Apartment', 'Structure Type: High Rise', 'Architecture: High Rise', 'Not a New Construction', 'Not Attached Property', 'Condition: Existing, Good', 'Parcel Number: 00250-1034', 'List Price: $199,000', 'Price Per Sqft: $257', 'MLS Status: Active', 'City: Staten Island', 'MLS/Source ID: 1158790', 'Building Area: 773 Square Feet', 'Community Features: Health Club', 'HOA Fee Includes: Health Club, Outside Maintenance, Snow Removal', 'HOA Fee: $303/Monthly', 'Lot Area: 0.40 acres', 'Listing Agreement Type: Exclusive Right To Sell', 'Water View: None', 'Health Club']\n",
      "['Basement: Full', 'Number of Rooms: 5', 'Types of Rooms: Master Bedroom, Dining Room, Kitchen, Living Room', 'Number of Bedrooms: 3', 'Number of Bathrooms: 2', 'Number of Bathrooms (full): 1', 'Number of Bathrooms (half): 1', 'Living Area: 1792 Square Feet', 'Heating: Steam,Natural Gas', 'No Cooling', 'Air Conditioning: None', 'Has Heating', 'Heating Fuel: Steam', 'Has a Fireplace', 'Electric: 110', 'Stories: 2', 'Levels: 2.0', 'No Private Pool', 'Number of Garage Spaces: 1', 'No Carport', 'Has a Garage', 'No Attached Garage', 'No Open Parking', 'Parking Spaces: 1', 'Parking: Detached,Garage,Off Street', 'Sewer: Public Sewer', 'Days on Market: &lt;1 Day on Trulia', 'Year Built: 1930', 'Property Type: Residential', 'Property Subtype: Single Family - Detached', 'Architecture: Colonial', 'Not a New Construction', 'Not Attached Property', 'Condition: Existing, Poor', 'Parcel Number: 4305-0032', 'List Price: $599,900', 'Price Per Sqft: $335', 'MLS Status: Active', 'City: Staten Island', 'MLS/Source ID: 1158795', 'Building Area: 1792 Square Feet', 'Lot Area: 5000 sqft', 'Listing Agreement Type: Exclusive Right To Sell', 'Basement', 'Water View: None']\n",
      "['Basement: None', 'Number of Rooms: 2', 'Number of Bathrooms: 1', 'Number of Bathrooms (full): 1', 'Living Area: 489 Square Feet', 'Utilities: Public Garbage Removal', 'Appliances: Oven, Refrigerator', 'Laundry: Common Area', 'Refrigerator', 'Heating: Electric', 'Has Cooling', 'Air Conditioning: Wall Unit(s)', 'Heating Fuel: Electric', 'Flooring: Hardwood', 'Common Walls: No Common Walls', 'Stories: 1', 'Number of Stories: 14', 'Levels: One', 'Elevator', 'Floors: Hardwood', 'Exterior: Balcony', 'Has a Garage', 'No Attached Garage', 'Has Open Parking', 'Parking: Assigned,Garage', 'Sewer: Public Sewer', 'Days on Market: &lt;1 Day on Trulia', 'Year Built: 1973', 'Property Type: Residential', 'Property Subtype: Condominium', 'Architecture: High Rise', 'Construction Materials: Other', 'Not a New Construction', 'Condition: MINT', 'Included in Sale: A/C Units, Refrigerator', 'Parcel Number: 06713-1033', 'List Price: $390,000', 'Price Per Sqft: $798', 'MLS Status: A', '<a href=\"https://www.tourbuzz.net/2073864?a=1\" rel=\"nofollow noreferrer\" target=\"_blank\">Virtual Tour (branded)</a>', '<a href=\"https://seehouseat.com/2073864?idx=1\" rel=\"nofollow noreferrer\" target=\"_blank\">See Virtual Tour</a>', 'City: Flushing', 'Community: Village Mall At Hillcres', 'Elementary School: Ps 101 School In The Gardens, Ps 121, Ps 144 Col Jeromus Remsen, Ps 161 Arthur Ashe School, Ps 174 William Sidney Mount, Ps 196 Grand Central Parkway, Ps 99 Kew Gardens', 'Elementary School District: Queens 28', 'Jr High / Middle School: Jhs 157 Stephen A Halsey', 'Jr High / Middle School District: Queens 28', 'High School: Queens High School Sci At York Coll', 'High School District: Queens 28', 'MLS/Source ID: 3444020', 'Builder Model: Alcove Studio', 'Community Features: Clubhouse, Pool, Trash Collection, Park', 'Not Senior Community', 'HOA Fee Includes: Maintenance Grounds, Exterior Maintenance, Sewer, Snow Removal, Trash, Gas, Hot Water, Pool Care', 'HOA Fee: $366/Monthly', 'Lot Area: 0.88 acres', 'Ownership: Condo', 'Attic: None', 'HOA Amenities: Doorman']\n",
      "['Days on Market: &lt;1 Day on Trulia', 'Year Built: 1921', 'Property Type: Coop', 'Number of Rooms: 6', 'Dishwasher', 'Fireplace', 'Garden', 'Price Per Sqft: $992', 'Units in Building: 10', 'HOA Fee: $1,050/Monthly']\n",
      "['Stories: 2', 'Dishwasher', 'Dryer', 'Washer', 'Days on Market: &lt;1 Day on Trulia', 'Year Built: 1905', 'Year Updated: 1905', 'Property Type: Single Family Home', 'Garden', 'Price Per Sqft: $1,103', 'Units in Building: 1', 'Lot Area: 2000 sqft']\n",
      "['Days on Market: &lt;1 Day on Trulia', 'Year Built: 1927', 'Property Type: Coop', 'Dishwasher', 'Dryer', 'Washer', 'Air Conditioning', 'Cooling System: Central', 'Elevator', 'Price Per Sqft: $1,537', 'Units in Building: 105', 'HOA Fee: $5,758/Monthly']\n",
      "['Stories: 19', 'Elevator', 'Floors: Hardwood', 'Number of Rooms: 4', 'Dishwasher', 'Days on Market: &lt;1 Day on Trulia', 'Year Built: 1975', 'Property Type: Coop', 'Architecture: Other', 'Garage', 'Parking: Garage Detached', 'MLS/Source ID: 22152466', 'Units in Building: 272', 'HOA Fee: $2,296/Monthly']\n"
     ]
    },
    {
     "output_type": "error",
     "ename": "KeyboardInterrupt",
     "evalue": "",
     "traceback": [
      "\u001b[0;31m---------------------------------------------------------------------------\u001b[0m",
      "\u001b[0;31mKeyboardInterrupt\u001b[0m                         Traceback (most recent call last)",
      "Cell \u001b[0;32mIn [138], line 6\u001b[0m\n\u001b[1;32m      4\u001b[0m \u001b[38;5;28;01mfor\u001b[39;00m url \u001b[38;5;129;01min\u001b[39;00m get_links():\n\u001b[1;32m      5\u001b[0m     req \u001b[38;5;241m=\u001b[39m Request(url, headers\u001b[38;5;241m=\u001b[39m{\u001b[38;5;124m'\u001b[39m\u001b[38;5;124mUser-Agent\u001b[39m\u001b[38;5;124m'\u001b[39m: \u001b[38;5;124m'\u001b[39m\u001b[38;5;124mMozilla/5.0\u001b[39m\u001b[38;5;124m'\u001b[39m})\n\u001b[0;32m----> 6\u001b[0m     webpage \u001b[38;5;241m=\u001b[39m \u001b[43murlopen\u001b[49m\u001b[43m(\u001b[49m\u001b[43mreq\u001b[49m\u001b[43m)\u001b[49m\u001b[38;5;241m.\u001b[39mread()  \n\u001b[1;32m      7\u001b[0m     soup \u001b[38;5;241m=\u001b[39m BeautifulSoup(webpage, \u001b[38;5;124m'\u001b[39m\u001b[38;5;124mhtml.parser\u001b[39m\u001b[38;5;124m'\u001b[39m)\n\u001b[1;32m      8\u001b[0m     html \u001b[38;5;241m=\u001b[39m soup\u001b[38;5;241m.\u001b[39mprettify(\u001b[38;5;124m'\u001b[39m\u001b[38;5;124mutf-8\u001b[39m\u001b[38;5;124m'\u001b[39m)\n",
      "File \u001b[0;32m~/miniforge3/envs/env_tf/lib/python3.9/urllib/request.py:214\u001b[0m, in \u001b[0;36murlopen\u001b[0;34m(url, data, timeout, cafile, capath, cadefault, context)\u001b[0m\n\u001b[1;32m    212\u001b[0m \u001b[38;5;28;01melse\u001b[39;00m:\n\u001b[1;32m    213\u001b[0m     opener \u001b[38;5;241m=\u001b[39m _opener\n\u001b[0;32m--> 214\u001b[0m \u001b[38;5;28;01mreturn\u001b[39;00m \u001b[43mopener\u001b[49m\u001b[38;5;241;43m.\u001b[39;49m\u001b[43mopen\u001b[49m\u001b[43m(\u001b[49m\u001b[43murl\u001b[49m\u001b[43m,\u001b[49m\u001b[43m \u001b[49m\u001b[43mdata\u001b[49m\u001b[43m,\u001b[49m\u001b[43m \u001b[49m\u001b[43mtimeout\u001b[49m\u001b[43m)\u001b[49m\n",
      "File \u001b[0;32m~/miniforge3/envs/env_tf/lib/python3.9/urllib/request.py:523\u001b[0m, in \u001b[0;36mOpenerDirector.open\u001b[0;34m(self, fullurl, data, timeout)\u001b[0m\n\u001b[1;32m    521\u001b[0m \u001b[38;5;28;01mfor\u001b[39;00m processor \u001b[38;5;129;01min\u001b[39;00m \u001b[38;5;28mself\u001b[39m\u001b[38;5;241m.\u001b[39mprocess_response\u001b[38;5;241m.\u001b[39mget(protocol, []):\n\u001b[1;32m    522\u001b[0m     meth \u001b[38;5;241m=\u001b[39m \u001b[38;5;28mgetattr\u001b[39m(processor, meth_name)\n\u001b[0;32m--> 523\u001b[0m     response \u001b[38;5;241m=\u001b[39m \u001b[43mmeth\u001b[49m\u001b[43m(\u001b[49m\u001b[43mreq\u001b[49m\u001b[43m,\u001b[49m\u001b[43m \u001b[49m\u001b[43mresponse\u001b[49m\u001b[43m)\u001b[49m\n\u001b[1;32m    525\u001b[0m \u001b[38;5;28;01mreturn\u001b[39;00m response\n",
      "File \u001b[0;32m~/miniforge3/envs/env_tf/lib/python3.9/urllib/request.py:632\u001b[0m, in \u001b[0;36mHTTPErrorProcessor.http_response\u001b[0;34m(self, request, response)\u001b[0m\n\u001b[1;32m    629\u001b[0m \u001b[38;5;66;03m# According to RFC 2616, \"2xx\" code indicates that the client's\u001b[39;00m\n\u001b[1;32m    630\u001b[0m \u001b[38;5;66;03m# request was successfully received, understood, and accepted.\u001b[39;00m\n\u001b[1;32m    631\u001b[0m \u001b[38;5;28;01mif\u001b[39;00m \u001b[38;5;129;01mnot\u001b[39;00m (\u001b[38;5;241m200\u001b[39m \u001b[38;5;241m<\u001b[39m\u001b[38;5;241m=\u001b[39m code \u001b[38;5;241m<\u001b[39m \u001b[38;5;241m300\u001b[39m):\n\u001b[0;32m--> 632\u001b[0m     response \u001b[38;5;241m=\u001b[39m \u001b[38;5;28;43mself\u001b[39;49m\u001b[38;5;241;43m.\u001b[39;49m\u001b[43mparent\u001b[49m\u001b[38;5;241;43m.\u001b[39;49m\u001b[43merror\u001b[49m\u001b[43m(\u001b[49m\n\u001b[1;32m    633\u001b[0m \u001b[43m        \u001b[49m\u001b[38;5;124;43m'\u001b[39;49m\u001b[38;5;124;43mhttp\u001b[39;49m\u001b[38;5;124;43m'\u001b[39;49m\u001b[43m,\u001b[49m\u001b[43m \u001b[49m\u001b[43mrequest\u001b[49m\u001b[43m,\u001b[49m\u001b[43m \u001b[49m\u001b[43mresponse\u001b[49m\u001b[43m,\u001b[49m\u001b[43m \u001b[49m\u001b[43mcode\u001b[49m\u001b[43m,\u001b[49m\u001b[43m \u001b[49m\u001b[43mmsg\u001b[49m\u001b[43m,\u001b[49m\u001b[43m \u001b[49m\u001b[43mhdrs\u001b[49m\u001b[43m)\u001b[49m\n\u001b[1;32m    635\u001b[0m \u001b[38;5;28;01mreturn\u001b[39;00m response\n",
      "File \u001b[0;32m~/miniforge3/envs/env_tf/lib/python3.9/urllib/request.py:555\u001b[0m, in \u001b[0;36mOpenerDirector.error\u001b[0;34m(self, proto, *args)\u001b[0m\n\u001b[1;32m    553\u001b[0m     http_err \u001b[38;5;241m=\u001b[39m \u001b[38;5;241m0\u001b[39m\n\u001b[1;32m    554\u001b[0m args \u001b[38;5;241m=\u001b[39m (\u001b[38;5;28mdict\u001b[39m, proto, meth_name) \u001b[38;5;241m+\u001b[39m args\n\u001b[0;32m--> 555\u001b[0m result \u001b[38;5;241m=\u001b[39m \u001b[38;5;28;43mself\u001b[39;49m\u001b[38;5;241;43m.\u001b[39;49m\u001b[43m_call_chain\u001b[49m\u001b[43m(\u001b[49m\u001b[38;5;241;43m*\u001b[39;49m\u001b[43margs\u001b[49m\u001b[43m)\u001b[49m\n\u001b[1;32m    556\u001b[0m \u001b[38;5;28;01mif\u001b[39;00m result:\n\u001b[1;32m    557\u001b[0m     \u001b[38;5;28;01mreturn\u001b[39;00m result\n",
      "File \u001b[0;32m~/miniforge3/envs/env_tf/lib/python3.9/urllib/request.py:494\u001b[0m, in \u001b[0;36mOpenerDirector._call_chain\u001b[0;34m(self, chain, kind, meth_name, *args)\u001b[0m\n\u001b[1;32m    492\u001b[0m \u001b[38;5;28;01mfor\u001b[39;00m handler \u001b[38;5;129;01min\u001b[39;00m handlers:\n\u001b[1;32m    493\u001b[0m     func \u001b[38;5;241m=\u001b[39m \u001b[38;5;28mgetattr\u001b[39m(handler, meth_name)\n\u001b[0;32m--> 494\u001b[0m     result \u001b[38;5;241m=\u001b[39m \u001b[43mfunc\u001b[49m\u001b[43m(\u001b[49m\u001b[38;5;241;43m*\u001b[39;49m\u001b[43margs\u001b[49m\u001b[43m)\u001b[49m\n\u001b[1;32m    495\u001b[0m     \u001b[38;5;28;01mif\u001b[39;00m result \u001b[38;5;129;01mis\u001b[39;00m \u001b[38;5;129;01mnot\u001b[39;00m \u001b[38;5;28;01mNone\u001b[39;00m:\n\u001b[1;32m    496\u001b[0m         \u001b[38;5;28;01mreturn\u001b[39;00m result\n",
      "File \u001b[0;32m~/miniforge3/envs/env_tf/lib/python3.9/urllib/request.py:747\u001b[0m, in \u001b[0;36mHTTPRedirectHandler.http_error_302\u001b[0;34m(self, req, fp, code, msg, headers)\u001b[0m\n\u001b[1;32m    744\u001b[0m fp\u001b[38;5;241m.\u001b[39mread()\n\u001b[1;32m    745\u001b[0m fp\u001b[38;5;241m.\u001b[39mclose()\n\u001b[0;32m--> 747\u001b[0m \u001b[38;5;28;01mreturn\u001b[39;00m \u001b[38;5;28;43mself\u001b[39;49m\u001b[38;5;241;43m.\u001b[39;49m\u001b[43mparent\u001b[49m\u001b[38;5;241;43m.\u001b[39;49m\u001b[43mopen\u001b[49m\u001b[43m(\u001b[49m\u001b[43mnew\u001b[49m\u001b[43m,\u001b[49m\u001b[43m \u001b[49m\u001b[43mtimeout\u001b[49m\u001b[38;5;241;43m=\u001b[39;49m\u001b[43mreq\u001b[49m\u001b[38;5;241;43m.\u001b[39;49m\u001b[43mtimeout\u001b[49m\u001b[43m)\u001b[49m\n",
      "File \u001b[0;32m~/miniforge3/envs/env_tf/lib/python3.9/urllib/request.py:517\u001b[0m, in \u001b[0;36mOpenerDirector.open\u001b[0;34m(self, fullurl, data, timeout)\u001b[0m\n\u001b[1;32m    514\u001b[0m     req \u001b[38;5;241m=\u001b[39m meth(req)\n\u001b[1;32m    516\u001b[0m sys\u001b[38;5;241m.\u001b[39maudit(\u001b[38;5;124m'\u001b[39m\u001b[38;5;124murllib.Request\u001b[39m\u001b[38;5;124m'\u001b[39m, req\u001b[38;5;241m.\u001b[39mfull_url, req\u001b[38;5;241m.\u001b[39mdata, req\u001b[38;5;241m.\u001b[39mheaders, req\u001b[38;5;241m.\u001b[39mget_method())\n\u001b[0;32m--> 517\u001b[0m response \u001b[38;5;241m=\u001b[39m \u001b[38;5;28;43mself\u001b[39;49m\u001b[38;5;241;43m.\u001b[39;49m\u001b[43m_open\u001b[49m\u001b[43m(\u001b[49m\u001b[43mreq\u001b[49m\u001b[43m,\u001b[49m\u001b[43m \u001b[49m\u001b[43mdata\u001b[49m\u001b[43m)\u001b[49m\n\u001b[1;32m    519\u001b[0m \u001b[38;5;66;03m# post-process response\u001b[39;00m\n\u001b[1;32m    520\u001b[0m meth_name \u001b[38;5;241m=\u001b[39m protocol\u001b[38;5;241m+\u001b[39m\u001b[38;5;124m\"\u001b[39m\u001b[38;5;124m_response\u001b[39m\u001b[38;5;124m\"\u001b[39m\n",
      "File \u001b[0;32m~/miniforge3/envs/env_tf/lib/python3.9/urllib/request.py:534\u001b[0m, in \u001b[0;36mOpenerDirector._open\u001b[0;34m(self, req, data)\u001b[0m\n\u001b[1;32m    531\u001b[0m     \u001b[38;5;28;01mreturn\u001b[39;00m result\n\u001b[1;32m    533\u001b[0m protocol \u001b[38;5;241m=\u001b[39m req\u001b[38;5;241m.\u001b[39mtype\n\u001b[0;32m--> 534\u001b[0m result \u001b[38;5;241m=\u001b[39m \u001b[38;5;28;43mself\u001b[39;49m\u001b[38;5;241;43m.\u001b[39;49m\u001b[43m_call_chain\u001b[49m\u001b[43m(\u001b[49m\u001b[38;5;28;43mself\u001b[39;49m\u001b[38;5;241;43m.\u001b[39;49m\u001b[43mhandle_open\u001b[49m\u001b[43m,\u001b[49m\u001b[43m \u001b[49m\u001b[43mprotocol\u001b[49m\u001b[43m,\u001b[49m\u001b[43m \u001b[49m\u001b[43mprotocol\u001b[49m\u001b[43m \u001b[49m\u001b[38;5;241;43m+\u001b[39;49m\n\u001b[1;32m    535\u001b[0m \u001b[43m                          \u001b[49m\u001b[38;5;124;43m'\u001b[39;49m\u001b[38;5;124;43m_open\u001b[39;49m\u001b[38;5;124;43m'\u001b[39;49m\u001b[43m,\u001b[49m\u001b[43m \u001b[49m\u001b[43mreq\u001b[49m\u001b[43m)\u001b[49m\n\u001b[1;32m    536\u001b[0m \u001b[38;5;28;01mif\u001b[39;00m result:\n\u001b[1;32m    537\u001b[0m     \u001b[38;5;28;01mreturn\u001b[39;00m result\n",
      "File \u001b[0;32m~/miniforge3/envs/env_tf/lib/python3.9/urllib/request.py:494\u001b[0m, in \u001b[0;36mOpenerDirector._call_chain\u001b[0;34m(self, chain, kind, meth_name, *args)\u001b[0m\n\u001b[1;32m    492\u001b[0m \u001b[38;5;28;01mfor\u001b[39;00m handler \u001b[38;5;129;01min\u001b[39;00m handlers:\n\u001b[1;32m    493\u001b[0m     func \u001b[38;5;241m=\u001b[39m \u001b[38;5;28mgetattr\u001b[39m(handler, meth_name)\n\u001b[0;32m--> 494\u001b[0m     result \u001b[38;5;241m=\u001b[39m \u001b[43mfunc\u001b[49m\u001b[43m(\u001b[49m\u001b[38;5;241;43m*\u001b[39;49m\u001b[43margs\u001b[49m\u001b[43m)\u001b[49m\n\u001b[1;32m    495\u001b[0m     \u001b[38;5;28;01mif\u001b[39;00m result \u001b[38;5;129;01mis\u001b[39;00m \u001b[38;5;129;01mnot\u001b[39;00m \u001b[38;5;28;01mNone\u001b[39;00m:\n\u001b[1;32m    496\u001b[0m         \u001b[38;5;28;01mreturn\u001b[39;00m result\n",
      "File \u001b[0;32m~/miniforge3/envs/env_tf/lib/python3.9/urllib/request.py:1389\u001b[0m, in \u001b[0;36mHTTPSHandler.https_open\u001b[0;34m(self, req)\u001b[0m\n\u001b[1;32m   1388\u001b[0m \u001b[38;5;28;01mdef\u001b[39;00m \u001b[38;5;21mhttps_open\u001b[39m(\u001b[38;5;28mself\u001b[39m, req):\n\u001b[0;32m-> 1389\u001b[0m     \u001b[38;5;28;01mreturn\u001b[39;00m \u001b[38;5;28;43mself\u001b[39;49m\u001b[38;5;241;43m.\u001b[39;49m\u001b[43mdo_open\u001b[49m\u001b[43m(\u001b[49m\u001b[43mhttp\u001b[49m\u001b[38;5;241;43m.\u001b[39;49m\u001b[43mclient\u001b[49m\u001b[38;5;241;43m.\u001b[39;49m\u001b[43mHTTPSConnection\u001b[49m\u001b[43m,\u001b[49m\u001b[43m \u001b[49m\u001b[43mreq\u001b[49m\u001b[43m,\u001b[49m\n\u001b[1;32m   1390\u001b[0m \u001b[43m        \u001b[49m\u001b[43mcontext\u001b[49m\u001b[38;5;241;43m=\u001b[39;49m\u001b[38;5;28;43mself\u001b[39;49m\u001b[38;5;241;43m.\u001b[39;49m\u001b[43m_context\u001b[49m\u001b[43m,\u001b[49m\u001b[43m \u001b[49m\u001b[43mcheck_hostname\u001b[49m\u001b[38;5;241;43m=\u001b[39;49m\u001b[38;5;28;43mself\u001b[39;49m\u001b[38;5;241;43m.\u001b[39;49m\u001b[43m_check_hostname\u001b[49m\u001b[43m)\u001b[49m\n",
      "File \u001b[0;32m~/miniforge3/envs/env_tf/lib/python3.9/urllib/request.py:1350\u001b[0m, in \u001b[0;36mAbstractHTTPHandler.do_open\u001b[0;34m(self, http_class, req, **http_conn_args)\u001b[0m\n\u001b[1;32m   1348\u001b[0m     \u001b[38;5;28;01mexcept\u001b[39;00m \u001b[38;5;167;01mOSError\u001b[39;00m \u001b[38;5;28;01mas\u001b[39;00m err: \u001b[38;5;66;03m# timeout error\u001b[39;00m\n\u001b[1;32m   1349\u001b[0m         \u001b[38;5;28;01mraise\u001b[39;00m URLError(err)\n\u001b[0;32m-> 1350\u001b[0m     r \u001b[38;5;241m=\u001b[39m \u001b[43mh\u001b[49m\u001b[38;5;241;43m.\u001b[39;49m\u001b[43mgetresponse\u001b[49m\u001b[43m(\u001b[49m\u001b[43m)\u001b[49m\n\u001b[1;32m   1351\u001b[0m \u001b[38;5;28;01mexcept\u001b[39;00m:\n\u001b[1;32m   1352\u001b[0m     h\u001b[38;5;241m.\u001b[39mclose()\n",
      "File \u001b[0;32m~/miniforge3/envs/env_tf/lib/python3.9/http/client.py:1377\u001b[0m, in \u001b[0;36mHTTPConnection.getresponse\u001b[0;34m(self)\u001b[0m\n\u001b[1;32m   1375\u001b[0m \u001b[38;5;28;01mtry\u001b[39;00m:\n\u001b[1;32m   1376\u001b[0m     \u001b[38;5;28;01mtry\u001b[39;00m:\n\u001b[0;32m-> 1377\u001b[0m         \u001b[43mresponse\u001b[49m\u001b[38;5;241;43m.\u001b[39;49m\u001b[43mbegin\u001b[49m\u001b[43m(\u001b[49m\u001b[43m)\u001b[49m\n\u001b[1;32m   1378\u001b[0m     \u001b[38;5;28;01mexcept\u001b[39;00m \u001b[38;5;167;01mConnectionError\u001b[39;00m:\n\u001b[1;32m   1379\u001b[0m         \u001b[38;5;28mself\u001b[39m\u001b[38;5;241m.\u001b[39mclose()\n",
      "File \u001b[0;32m~/miniforge3/envs/env_tf/lib/python3.9/http/client.py:320\u001b[0m, in \u001b[0;36mHTTPResponse.begin\u001b[0;34m(self)\u001b[0m\n\u001b[1;32m    318\u001b[0m \u001b[38;5;66;03m# read until we get a non-100 response\u001b[39;00m\n\u001b[1;32m    319\u001b[0m \u001b[38;5;28;01mwhile\u001b[39;00m \u001b[38;5;28;01mTrue\u001b[39;00m:\n\u001b[0;32m--> 320\u001b[0m     version, status, reason \u001b[38;5;241m=\u001b[39m \u001b[38;5;28;43mself\u001b[39;49m\u001b[38;5;241;43m.\u001b[39;49m\u001b[43m_read_status\u001b[49m\u001b[43m(\u001b[49m\u001b[43m)\u001b[49m\n\u001b[1;32m    321\u001b[0m     \u001b[38;5;28;01mif\u001b[39;00m status \u001b[38;5;241m!=\u001b[39m CONTINUE:\n\u001b[1;32m    322\u001b[0m         \u001b[38;5;28;01mbreak\u001b[39;00m\n",
      "File \u001b[0;32m~/miniforge3/envs/env_tf/lib/python3.9/http/client.py:281\u001b[0m, in \u001b[0;36mHTTPResponse._read_status\u001b[0;34m(self)\u001b[0m\n\u001b[1;32m    280\u001b[0m \u001b[38;5;28;01mdef\u001b[39;00m \u001b[38;5;21m_read_status\u001b[39m(\u001b[38;5;28mself\u001b[39m):\n\u001b[0;32m--> 281\u001b[0m     line \u001b[38;5;241m=\u001b[39m \u001b[38;5;28mstr\u001b[39m(\u001b[38;5;28;43mself\u001b[39;49m\u001b[38;5;241;43m.\u001b[39;49m\u001b[43mfp\u001b[49m\u001b[38;5;241;43m.\u001b[39;49m\u001b[43mreadline\u001b[49m\u001b[43m(\u001b[49m\u001b[43m_MAXLINE\u001b[49m\u001b[43m \u001b[49m\u001b[38;5;241;43m+\u001b[39;49m\u001b[43m \u001b[49m\u001b[38;5;241;43m1\u001b[39;49m\u001b[43m)\u001b[49m, \u001b[38;5;124m\"\u001b[39m\u001b[38;5;124miso-8859-1\u001b[39m\u001b[38;5;124m\"\u001b[39m)\n\u001b[1;32m    282\u001b[0m     \u001b[38;5;28;01mif\u001b[39;00m \u001b[38;5;28mlen\u001b[39m(line) \u001b[38;5;241m>\u001b[39m _MAXLINE:\n\u001b[1;32m    283\u001b[0m         \u001b[38;5;28;01mraise\u001b[39;00m LineTooLong(\u001b[38;5;124m\"\u001b[39m\u001b[38;5;124mstatus line\u001b[39m\u001b[38;5;124m\"\u001b[39m)\n",
      "File \u001b[0;32m~/miniforge3/envs/env_tf/lib/python3.9/socket.py:704\u001b[0m, in \u001b[0;36mSocketIO.readinto\u001b[0;34m(self, b)\u001b[0m\n\u001b[1;32m    702\u001b[0m \u001b[38;5;28;01mwhile\u001b[39;00m \u001b[38;5;28;01mTrue\u001b[39;00m:\n\u001b[1;32m    703\u001b[0m     \u001b[38;5;28;01mtry\u001b[39;00m:\n\u001b[0;32m--> 704\u001b[0m         \u001b[38;5;28;01mreturn\u001b[39;00m \u001b[38;5;28;43mself\u001b[39;49m\u001b[38;5;241;43m.\u001b[39;49m\u001b[43m_sock\u001b[49m\u001b[38;5;241;43m.\u001b[39;49m\u001b[43mrecv_into\u001b[49m\u001b[43m(\u001b[49m\u001b[43mb\u001b[49m\u001b[43m)\u001b[49m\n\u001b[1;32m    705\u001b[0m     \u001b[38;5;28;01mexcept\u001b[39;00m timeout:\n\u001b[1;32m    706\u001b[0m         \u001b[38;5;28mself\u001b[39m\u001b[38;5;241m.\u001b[39m_timeout_occurred \u001b[38;5;241m=\u001b[39m \u001b[38;5;28;01mTrue\u001b[39;00m\n",
      "File \u001b[0;32m~/miniforge3/envs/env_tf/lib/python3.9/ssl.py:1242\u001b[0m, in \u001b[0;36mSSLSocket.recv_into\u001b[0;34m(self, buffer, nbytes, flags)\u001b[0m\n\u001b[1;32m   1238\u001b[0m     \u001b[38;5;28;01mif\u001b[39;00m flags \u001b[38;5;241m!=\u001b[39m \u001b[38;5;241m0\u001b[39m:\n\u001b[1;32m   1239\u001b[0m         \u001b[38;5;28;01mraise\u001b[39;00m \u001b[38;5;167;01mValueError\u001b[39;00m(\n\u001b[1;32m   1240\u001b[0m           \u001b[38;5;124m\"\u001b[39m\u001b[38;5;124mnon-zero flags not allowed in calls to recv_into() on \u001b[39m\u001b[38;5;132;01m%s\u001b[39;00m\u001b[38;5;124m\"\u001b[39m \u001b[38;5;241m%\u001b[39m\n\u001b[1;32m   1241\u001b[0m           \u001b[38;5;28mself\u001b[39m\u001b[38;5;241m.\u001b[39m\u001b[38;5;18m__class__\u001b[39m)\n\u001b[0;32m-> 1242\u001b[0m     \u001b[38;5;28;01mreturn\u001b[39;00m \u001b[38;5;28;43mself\u001b[39;49m\u001b[38;5;241;43m.\u001b[39;49m\u001b[43mread\u001b[49m\u001b[43m(\u001b[49m\u001b[43mnbytes\u001b[49m\u001b[43m,\u001b[49m\u001b[43m \u001b[49m\u001b[43mbuffer\u001b[49m\u001b[43m)\u001b[49m\n\u001b[1;32m   1243\u001b[0m \u001b[38;5;28;01melse\u001b[39;00m:\n\u001b[1;32m   1244\u001b[0m     \u001b[38;5;28;01mreturn\u001b[39;00m \u001b[38;5;28msuper\u001b[39m()\u001b[38;5;241m.\u001b[39mrecv_into(buffer, nbytes, flags)\n",
      "File \u001b[0;32m~/miniforge3/envs/env_tf/lib/python3.9/ssl.py:1100\u001b[0m, in \u001b[0;36mSSLSocket.read\u001b[0;34m(self, len, buffer)\u001b[0m\n\u001b[1;32m   1098\u001b[0m \u001b[38;5;28;01mtry\u001b[39;00m:\n\u001b[1;32m   1099\u001b[0m     \u001b[38;5;28;01mif\u001b[39;00m buffer \u001b[38;5;129;01mis\u001b[39;00m \u001b[38;5;129;01mnot\u001b[39;00m \u001b[38;5;28;01mNone\u001b[39;00m:\n\u001b[0;32m-> 1100\u001b[0m         \u001b[38;5;28;01mreturn\u001b[39;00m \u001b[38;5;28;43mself\u001b[39;49m\u001b[38;5;241;43m.\u001b[39;49m\u001b[43m_sslobj\u001b[49m\u001b[38;5;241;43m.\u001b[39;49m\u001b[43mread\u001b[49m\u001b[43m(\u001b[49m\u001b[38;5;28;43mlen\u001b[39;49m\u001b[43m,\u001b[49m\u001b[43m \u001b[49m\u001b[43mbuffer\u001b[49m\u001b[43m)\u001b[49m\n\u001b[1;32m   1101\u001b[0m     \u001b[38;5;28;01melse\u001b[39;00m:\n\u001b[1;32m   1102\u001b[0m         \u001b[38;5;28;01mreturn\u001b[39;00m \u001b[38;5;28mself\u001b[39m\u001b[38;5;241m.\u001b[39m_sslobj\u001b[38;5;241m.\u001b[39mread(\u001b[38;5;28mlen\u001b[39m)\n",
      "\u001b[0;31mKeyboardInterrupt\u001b[0m: "
     ]
    }
   ],
   "metadata": {}
  },
  {
   "cell_type": "code",
   "execution_count": 62,
   "source": [
    "# For ignoring SSL certificate errors  (reused code)\n",
    "\n",
    "ctx = ssl.create_default_context()\n",
    "ctx.check_hostname = False\n",
    "ctx.verify_mode = ssl.CERT_NONE"
   ],
   "outputs": [],
   "metadata": {}
  },
  {
   "cell_type": "code",
   "execution_count": 63,
   "source": [
    "#url = input(\"Enter URL: \")\n",
    "url = 'https://www.trulia.com/p/ny/staten-island/365-victory-blvd-staten-island-ny-10301--2008726710'"
   ],
   "outputs": [],
   "metadata": {}
  },
  {
   "cell_type": "code",
   "execution_count": 64,
   "source": [
    "# Use Mozilla access agent\n",
    "\n",
    "req = Request(url, headers={'User-Agent': 'Mozilla/5.0'})\n",
    "webpage = urlopen(req).read()"
   ],
   "outputs": [],
   "metadata": {}
  },
  {
   "cell_type": "code",
   "execution_count": 65,
   "source": [
    "# Creating a BeautifulSoup object of the html page for easy extraction of data.\n",
    "\n",
    "soup = BeautifulSoup(webpage, 'html.parser')\n",
    "html = soup.prettify('utf-8')\n",
    "property_info = {}"
   ],
   "outputs": [],
   "metadata": {}
  },
  {
   "cell_type": "code",
   "execution_count": 66,
   "source": [
    "# This code block will get you a one liner description of the listed property\n",
    "\n",
    "for meta in soup.findAll('meta', attrs={'name': 'description'}):\n",
    "    try:\n",
    "        property_info['description'] = meta['content']\n",
    "        break\n",
    "    except: \n",
    "        pass\n",
    "\n",
    "property_info['description']"
   ],
   "outputs": [
    {
     "output_type": "execute_result",
     "data": {
      "text/plain": [
       "'365 Victory Blvd, Staten Island, NY 10301 is a 2,164 sqft, 4 bed, 2 bath Foreclosure Multi-Family Home listed for $159,000. The property is Boarded so all potential buyers are asked to check with city and tax records to...'"
      ]
     },
     "metadata": {},
     "execution_count": 66
    }
   ],
   "metadata": {}
  },
  {
   "cell_type": "code",
   "execution_count": 67,
   "source": [
    "#Store url \n",
    "\n",
    "property_info['link'] = url\n",
    "\n",
    "property_info['link']"
   ],
   "outputs": [
    {
     "output_type": "execute_result",
     "data": {
      "text/plain": [
       "'https://www.trulia.com/p/ny/staten-island/365-victory-blvd-staten-island-ny-10301--2008726710'"
      ]
     },
     "metadata": {},
     "execution_count": 67
    }
   ],
   "metadata": {}
  },
  {
   "cell_type": "code",
   "execution_count": 68,
   "source": [
    "#Get beds, baths, floorspace\n",
    "\n",
    "for bed_html in soup.findAll('div', attrs={'data-testid':\"home-summary-size-bedrooms\"}):\n",
    "    number_beds = re.findall(r\"[0-9]+\\s[bB]eds*\", str(bed_html))\n",
    "    if number_beds:\n",
    "        property_info[\"beds\"] = int(number_beds[0].split(\" \")[0])\n",
    "\n",
    "for bath_html in soup.findAll('div', attrs={'data-testid':\"home-summary-size-bathrooms\"}):\n",
    "    number_baths = re.findall(r\"[0-9]+\\s[bB]aths*\", str(bath_html))\n",
    "    if number_baths:\n",
    "        property_info[\"baths\"] = int(number_baths[0].split(\" \")[0])\n",
    "\n",
    "for floor_html in soup.findAll('div', attrs={'data-testid':\"home-summary-size-floorspace\"}):\n",
    "    floor_footage = re.findall(r\"[0-9]+,[0-9]+\\ssqft*\", str(floor_html))\n",
    "    property_info[\"floor_space\"] = {}\n",
    "    if floor_footage:\n",
    "        property_info[\"floor_space\"][\"value\"] = int(floor_footage[0].split(\" \")[0].replace(\",\", \"\"))\n",
    "        property_info[\"floor_space\"][\"unit\"] = floor_footage[0].split(\" \")[1]\n",
    "\n",
    "property_info\n"
   ],
   "outputs": [
    {
     "output_type": "execute_result",
     "data": {
      "text/plain": [
       "{'description': '365 Victory Blvd, Staten Island, NY 10301 is a 2,164 sqft, 4 bed, 2 bath Foreclosure Multi-Family Home listed for $159,000. The property is Boarded so all potential buyers are asked to check with city and tax records to...',\n",
       " 'link': 'https://www.trulia.com/p/ny/staten-island/365-victory-blvd-staten-island-ny-10301--2008726710',\n",
       " 'beds': 4,\n",
       " 'baths': 2,\n",
       " 'floor_space': {'value': 2164, 'unit': 'sqft'}}"
      ]
     },
     "metadata": {},
     "execution_count": 68
    }
   ],
   "metadata": {}
  },
  {
   "cell_type": "code",
   "execution_count": 69,
   "source": [
    "#Extracts features for given house\n",
    "for index, sou in enumerate(soup.findAll('span', attrs={\"class\":\"Feature__FeatureListItem-sc-w1mxt5-0 gmLKqq\"})):\n",
    "    clean_data = str(sou).split(\"gmLKqq\\\">\")\n",
    "    clean_data = clean_data[1].split(\"</span>\")[0]\n",
    "clean_data"
   ],
   "outputs": [
    {
     "output_type": "execute_result",
     "data": {
      "text/plain": [
       "'Lot Area: 3001 sqft'"
      ]
     },
     "metadata": {},
     "execution_count": 69
    }
   ],
   "metadata": {}
  }
 ],
 "metadata": {
  "kernelspec": {
   "name": "python3",
   "display_name": "Python 3.9.13 64-bit ('env_tf': conda)"
  },
  "language_info": {
   "codemirror_mode": {
    "name": "ipython",
    "version": 3
   },
   "file_extension": ".py",
   "mimetype": "text/x-python",
   "name": "python",
   "nbconvert_exporter": "python",
   "pygments_lexer": "ipython3",
   "version": "3.9.13"
  },
  "interpreter": {
   "hash": "24e04ac6381ae14c7283d3039b3eae55e580ec44d8ad9834709c61b9be756f0a"
  }
 },
 "nbformat": 4,
 "nbformat_minor": 4
}