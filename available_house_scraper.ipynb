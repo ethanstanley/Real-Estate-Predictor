{
 "cells": [
  {
   "cell_type": "code",
   "execution_count": 93,
   "source": [
    "import ssl\n",
    "from bs4 import BeautifulSoup\n",
    "from urllib.request import Request, urlopen\n",
    "import re\n",
    "import time\n",
    "import re\n",
    "import statistics\n",
    "import matplotlib.pyplot as py\n",
    "import pandas as pd \n",
    "import random"
   ],
   "outputs": [],
   "metadata": {}
  },
  {
   "cell_type": "code",
   "execution_count": 94,
   "source": [
    "def get_links(pages = 1):\n",
    "    #gets the links from trulia properties page \n",
    "    # if length of list is zero, captcha blocked request so use a new VPN location \n",
    "    #pages: number of pages of trula to scrape\n",
    "    #returns: list of links\n",
    "    ctx = ssl.create_default_context()\n",
    "    ctx.check_hostname = False\n",
    "    ctx.verify_mode = ssl.CERT_NONE\n",
    "    i = 0\n",
    "    all_property_links = []\n",
    "    while i < pages:\n",
    "        page_property_links = []\n",
    "        url = 'https://www.trulia.com/NY/New_York/' + \"%s_p/\"%str(i)\n",
    "        req = Request(url, headers={\"User-Agent\": 'Mozilla/5.0'})\n",
    "        webpage = urlopen(req).read()\n",
    "        soup = BeautifulSoup(webpage , 'html.parser')\n",
    "        for link in soup.findAll('a'):\n",
    "            l = str(link.get('href'))\n",
    "            if sum(map(str.isdigit, l[-17:])) == 15: page_property_links.append(\"https://www.trulia.com\" + l)\n",
    "        page_property_links = page_property_links[::2]\n",
    "        all_property_links.extend(page_property_links)\n",
    "        print(\"finishing loop\" + \" \" + str(i+1))\n",
    "        i += 1\n",
    "        print(len(all_property_links))\n",
    "        time.sleep(random.randint(5,10))\n",
    "        \n",
    "    return(all_property_links)"
   ],
   "outputs": [],
   "metadata": {}
  },
  {
   "cell_type": "code",
   "execution_count": 114,
   "source": [
    "links = get_links(pages = 1)\n",
    "feature_dict_list = {}\n",
    "all_features = []\n",
    "all_links = []"
   ],
   "outputs": [
    {
     "output_type": "stream",
     "name": "stdout",
     "text": [
      "finishing loop 1\n",
      "54\n"
     ]
    }
   ],
   "metadata": {}
  },
  {
   "cell_type": "code",
   "execution_count": 115,
   "source": [
    "import random\n",
    "for index,url in enumerate(links[:5]): #iterates through all URLs from the get_links func\n",
    "    req = Request(url, headers={'User-Agent': 'Mozilla/5.0'})\n",
    "    webpage = urlopen(req).read()  \n",
    "    soup = BeautifulSoup(webpage, 'html.parser')\n",
    "    html = soup.prettify('utf-8')\n",
    "    feature_dict = {}\n",
    "\n",
    "    for sou in soup.findAll('span', attrs={\"class\":\"Feature__FeatureListItem-sc-w1mxt5-0 gmLKqq\"}):\n",
    "        clean_data = str(sou).split(\"gmLKqq\\\">\")\n",
    "        clean_data = clean_data[1].split(\"</span>\")[0]\n",
    "        dict_info = clean_data.split(':')\n",
    "        if len(dict_info)>1:\n",
    "            feature_dict[dict_info[0]] = dict_info[1]\n",
    "\n",
    "        for bed_html in soup.findAll('div', attrs={'data-testid':\"home-summary-size-bedrooms\"}):\n",
    "            number_beds = re.findall(r\"[0-9]+\\s[bB]eds*\", str(bed_html))\n",
    "            if number_beds:\n",
    "                feature_dict[\"beds\"] = int(number_beds[0].split(\" \")[0])\n",
    "\n",
    "        for bath_html in soup.findAll('div', attrs={'data-testid':\"home-summary-size-bathrooms\"}):\n",
    "            number_baths = re.findall(r\"[0-9]+\\s[bB]aths*\", str(bath_html))\n",
    "            if number_baths:\n",
    "                feature_dict[\"baths\"] = int(number_baths[0].split(\" \")[0])\n",
    "\n",
    "        for floor_html in soup.findAll('div', attrs={'data-testid':\"home-summary-size-floorspace\"}):\n",
    "            floor_footage = re.findall(r\"[0-9]+,[0-9]+\\ssqft*\", str(floor_html))\n",
    "            if floor_footage:\n",
    "                feature_dict[\"floor_space\"] = int(floor_footage[0].split(\" \")[0].replace(\",\", \"\"))\n",
    "        for meta in soup.findAll('meta', attrs={'name': 'description'}):\n",
    "            if meta['content']:\n",
    "                feature_dict['price'] = meta['content'].split(\"$\")[1].split(\".\")[0]\n",
    "           \n",
    "        \n",
    "        feature_dict[\"Zip_Code\"] = url.split(\"-\")[-3]\n",
    "        \n",
    "\n",
    "    all_features.append(feature_dict);all_links.append(url)\n",
    "    print(str(index)+\"/\"+str(len(links)))\n",
    "    time.sleep(random.randint(5,10))"
   ],
   "outputs": [
    {
     "output_type": "stream",
     "name": "stdout",
     "text": [
      "0/54\n",
      "1/54\n",
      "2/54\n",
      "3/54\n",
      "4/54\n"
     ]
    }
   ],
   "metadata": {}
  },
  {
   "cell_type": "code",
   "execution_count": 117,
   "source": [
    "df = pd.DataFrame.from_dict(all_features)\n",
    "df = df[[\"Stories\",\"beds\",\"baths\",\"floor_space\",\"price\",\"Zip_Code\",\"Days on Market\",\"Year Built\",\"Lot Area\",\"Property Type\"]]\n"
   ],
   "outputs": [],
   "metadata": {}
  },
  {
   "cell_type": "code",
   "execution_count": 120,
   "source": [
    "df"
   ],
   "outputs": [
    {
     "output_type": "execute_result",
     "data": {
      "text/html": [
       "<div>\n",
       "<style scoped>\n",
       "    .dataframe tbody tr th:only-of-type {\n",
       "        vertical-align: middle;\n",
       "    }\n",
       "\n",
       "    .dataframe tbody tr th {\n",
       "        vertical-align: top;\n",
       "    }\n",
       "\n",
       "    .dataframe thead th {\n",
       "        text-align: right;\n",
       "    }\n",
       "</style>\n",
       "<table border=\"1\" class=\"dataframe\">\n",
       "  <thead>\n",
       "    <tr style=\"text-align: right;\">\n",
       "      <th></th>\n",
       "      <th>Stories</th>\n",
       "      <th>beds</th>\n",
       "      <th>baths</th>\n",
       "      <th>floor_space</th>\n",
       "      <th>price</th>\n",
       "      <th>Zip_Code</th>\n",
       "      <th>Days on Market</th>\n",
       "      <th>Year Built</th>\n",
       "      <th>Lot Area</th>\n",
       "      <th>Property Type</th>\n",
       "    </tr>\n",
       "  </thead>\n",
       "  <tbody>\n",
       "    <tr>\n",
       "      <th>0</th>\n",
       "      <td>12</td>\n",
       "      <td>5</td>\n",
       "      <td>4</td>\n",
       "      <td>71880.0</td>\n",
       "      <td>5,797,000</td>\n",
       "      <td>10024</td>\n",
       "      <td>1 Day on Trulia</td>\n",
       "      <td>1912</td>\n",
       "      <td>7662 sqft</td>\n",
       "      <td>Coop</td>\n",
       "    </tr>\n",
       "    <tr>\n",
       "      <th>1</th>\n",
       "      <td>6</td>\n",
       "      <td>2</td>\n",
       "      <td>1</td>\n",
       "      <td>261776.0</td>\n",
       "      <td>358,000</td>\n",
       "      <td>11354</td>\n",
       "      <td>7 Days on Trulia</td>\n",
       "      <td>1952</td>\n",
       "      <td>5.20 acres</td>\n",
       "      <td>Coop</td>\n",
       "    </tr>\n",
       "    <tr>\n",
       "      <th>2</th>\n",
       "      <td>NaN</td>\n",
       "      <td>6</td>\n",
       "      <td>4</td>\n",
       "      <td>40100.0</td>\n",
       "      <td>1,950,000</td>\n",
       "      <td>11355</td>\n",
       "      <td>11</td>\n",
       "      <td>1915</td>\n",
       "      <td>4000 sqft</td>\n",
       "      <td>Residential Income</td>\n",
       "    </tr>\n",
       "    <tr>\n",
       "      <th>3</th>\n",
       "      <td>2</td>\n",
       "      <td>4</td>\n",
       "      <td>2</td>\n",
       "      <td>2164.0</td>\n",
       "      <td>159,000</td>\n",
       "      <td>10301</td>\n",
       "      <td>12 Days on Trulia</td>\n",
       "      <td>1915</td>\n",
       "      <td>3001 sqft</td>\n",
       "      <td>Multi Family</td>\n",
       "    </tr>\n",
       "    <tr>\n",
       "      <th>4</th>\n",
       "      <td>NaN</td>\n",
       "      <td>1</td>\n",
       "      <td>1</td>\n",
       "      <td>NaN</td>\n",
       "      <td>85,000</td>\n",
       "      <td>10460</td>\n",
       "      <td>6</td>\n",
       "      <td>1931</td>\n",
       "      <td>NaN</td>\n",
       "      <td>Residential</td>\n",
       "    </tr>\n",
       "  </tbody>\n",
       "</table>\n",
       "</div>"
      ],
      "text/plain": [
       "  Stories  beds  baths  floor_space      price Zip_Code      Days on Market  \\\n",
       "0      12     5      4      71880.0  5,797,000    10024     1 Day on Trulia   \n",
       "1       6     2      1     261776.0    358,000    11354    7 Days on Trulia   \n",
       "2     NaN     6      4      40100.0  1,950,000    11355                  11   \n",
       "3       2     4      2       2164.0    159,000    10301   12 Days on Trulia   \n",
       "4     NaN     1      1          NaN     85,000    10460                   6   \n",
       "\n",
       "  Year Built     Lot Area        Property Type  \n",
       "0       1912    7662 sqft                 Coop  \n",
       "1       1952   5.20 acres                 Coop  \n",
       "2       1915    4000 sqft   Residential Income  \n",
       "3       1915    3001 sqft         Multi Family  \n",
       "4       1931          NaN          Residential  "
      ]
     },
     "metadata": {},
     "execution_count": 120
    }
   ],
   "metadata": {}
  },
  {
   "cell_type": "code",
   "execution_count": null,
   "source": [
    "for house in all_features:\n",
    "    for f in house:\n",
    "        dict_key,dict_value = f.split(':')"
   ],
   "outputs": [],
   "metadata": {}
  },
  {
   "cell_type": "code",
   "execution_count": 62,
   "source": [
    "# For ignoring SSL certificate errors  (reused code)\n",
    "\n",
    "ctx = ssl.create_default_context()\n",
    "ctx.check_hostname = False\n",
    "ctx.verify_mode = ssl.CERT_NONE"
   ],
   "outputs": [],
   "metadata": {}
  },
  {
   "cell_type": "code",
   "execution_count": 63,
   "source": [
    "#url = input(\"Enter URL: \")\n",
    "url = 'https://www.trulia.com/p/ny/staten-island/365-victory-blvd-staten-island-ny-10301--2008726710'"
   ],
   "outputs": [],
   "metadata": {}
  },
  {
   "cell_type": "code",
   "execution_count": 28,
   "source": [
    "# Use Mozilla access agent\n",
    "\n",
    "req = Request(url, headers={'User-Agent': 'Mozilla/5.0'})\n",
    "webpage = urlopen(req).read()"
   ],
   "outputs": [],
   "metadata": {}
  },
  {
   "cell_type": "code",
   "execution_count": 103,
   "source": [
    "# Creating a BeautifulSoup object of the html page for easy extraction of data.\n",
    "\n",
    "soup = BeautifulSoup(webpage, 'html.parser')\n",
    "html = soup.prettify('utf-8')\n",
    "property_info = {}"
   ],
   "outputs": [],
   "metadata": {}
  },
  {
   "cell_type": "code",
   "execution_count": 108,
   "source": [
    "# This code block will get you a one liner description of the listed property\n",
    "\n",
    "for meta in soup.findAll('meta', attrs={'name': 'description'}):\n",
    "    try:\n",
    "        property_info['description'] = meta['content']\n",
    "        break\n",
    "    except: \n",
    "        pass\n",
    "\n",
    "property_info['description'].split(\"$\")[1].split(\".\")[0]"
   ],
   "outputs": [
    {
     "output_type": "execute_result",
     "data": {
      "text/plain": [
       "'119,000'"
      ]
     },
     "metadata": {},
     "execution_count": 108
    }
   ],
   "metadata": {}
  },
  {
   "cell_type": "code",
   "execution_count": 31,
   "source": [
    "#Store url \n",
    "\n",
    "property_info['link'] = url\n",
    "\n",
    "property_info['link']"
   ],
   "outputs": [
    {
     "output_type": "execute_result",
     "data": {
      "text/plain": [
       "'https://www.trulia.com/p/ny/new-york/309-e-houston-st-1a-new-york-ny-10002--2478352572'"
      ]
     },
     "metadata": {},
     "execution_count": 31
    }
   ],
   "metadata": {}
  },
  {
   "cell_type": "code",
   "execution_count": 33,
   "source": [
    "#Get beds, baths, floorspace\n",
    "\n",
    "for bed_html in soup.findAll('div', attrs={'data-testid':\"home-summary-size-bedrooms\"}):\n",
    "    number_beds = re.findall(r\"[0-9]+\\s[bB]eds*\", str(bed_html))\n",
    "    if number_beds:\n",
    "        property_info[\"beds\"] = int(number_beds[0].split(\" \")[0])\n",
    "\n",
    "for bath_html in soup.findAll('div', attrs={'data-testid':\"home-summary-size-bathrooms\"}):\n",
    "    number_baths = re.findall(r\"[0-9]+\\s[bB]aths*\", str(bath_html))\n",
    "    if number_baths:\n",
    "        property_info[\"baths\"] = int(number_baths[0].split(\" \")[0])\n",
    "\n",
    "for floor_html in soup.findAll('div', attrs={'data-testid':\"home-summary-size-floorspace\"}):\n",
    "    floor_footage = re.findall(r\"[0-9]+,[0-9]+\\ssqft*\", str(floor_html))\n",
    "    property_info[\"floor_space\"] = {}\n",
    "    if floor_footage:\n",
    "        property_info[\"floor_space\"][\"value\"] = int(floor_footage[0].split(\" \")[0].replace(\",\", \"\"))\n",
    "        property_info[\"floor_space\"][\"unit\"] = floor_footage[0].split(\" \")[1]\n",
    "\n",
    "property_info\n"
   ],
   "outputs": [
    {
     "output_type": "execute_result",
     "data": {
      "text/plain": [
       "{'link': 'https://www.trulia.com/p/ny/new-york/309-e-houston-st-1a-new-york-ny-10002--2478352572'}"
      ]
     },
     "metadata": {},
     "execution_count": 33
    }
   ],
   "metadata": {}
  },
  {
   "cell_type": "code",
   "execution_count": 69,
   "source": [
    "#Extracts features for given house\n",
    "for index, sou in enumerate(soup.findAll('span', attrs={\"class\":\"Feature__FeatureListItem-sc-w1mxt5-0 gmLKqq\"})):\n",
    "    clean_data = str(sou).split(\"gmLKqq\\\">\")\n",
    "    clean_data = clean_data[1].split(\"</span>\")[0]\n",
    "clean_data"
   ],
   "outputs": [
    {
     "output_type": "execute_result",
     "data": {
      "text/plain": [
       "'Lot Area: 3001 sqft'"
      ]
     },
     "metadata": {},
     "execution_count": 69
    }
   ],
   "metadata": {}
  }
 ],
 "metadata": {
  "kernelspec": {
   "name": "python3",
   "display_name": "Python 3.9.13 64-bit ('env_tf': conda)"
  },
  "language_info": {
   "codemirror_mode": {
    "name": "ipython",
    "version": 3
   },
   "file_extension": ".py",
   "mimetype": "text/x-python",
   "name": "python",
   "nbconvert_exporter": "python",
   "pygments_lexer": "ipython3",
   "version": "3.9.13"
  },
  "vscode": {
   "interpreter": {
    "hash": "978aba30ef2e336260338d4a3e61c9d4e24765bf9dea0639d3bd4087679dac9a"
   }
  },
  "interpreter": {
   "hash": "24e04ac6381ae14c7283d3039b3eae55e580ec44d8ad9834709c61b9be756f0a"
  }
 },
 "nbformat": 4,
 "nbformat_minor": 4
}