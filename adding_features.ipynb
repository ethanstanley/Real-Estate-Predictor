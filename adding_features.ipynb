{
 "cells": [
  {
   "cell_type": "code",
   "execution_count": 4,
   "source": [
    "import pandas as pd\n",
    "import math"
   ],
   "outputs": [],
   "metadata": {}
  },
  {
   "cell_type": "code",
   "execution_count": 5,
   "source": [
    "df = pd.read_csv(\"Property_Features_Data.csv\")"
   ],
   "outputs": [],
   "metadata": {}
  },
  {
   "cell_type": "code",
   "execution_count": 8,
   "source": [
    "#Add Borough to each zip code for classification\n",
    "def return_neighborhood(zip):\n",
    "  borough = \"\"\n",
    "  if zip == \"NY\":\n",
    "    return \"Other NYC\"\n",
    "  if not math.isnan(float(zip)) and zip.isnumeric():\n",
    "    zip_code = int(zip)\n",
    "    if zip_code >= 10001 and zip_code <= 10282:\n",
    "      borough = \"Manhattan\"\n",
    "    elif zip_code >= 10301 and zip_code <= 10314:\n",
    "      borough = \"Staten Island\"\n",
    "    elif zip_code >= 10451 and zip_code <= 10475:\n",
    "      borough = \"Bronx\"\n",
    "    elif zip_code >= 11004 and zip_code <= 11109 or zip_code >= 11351 and zip_code <= 11697:\n",
    "      borough = \"Queens\"\n",
    "    elif zip_code >= 11201 and zip_code <= 11256:\n",
    "      borough = \"Brooklyn\"\n",
    "    else:\n",
    "      borough = \"Other NYC\"\n",
    "  return borough\n",
    "  "
   ],
   "outputs": [],
   "metadata": {}
  },
  {
   "cell_type": "code",
   "execution_count": 9,
   "source": [
    "df['Borough'] = df['Zip Code'].apply(return_neighborhood)"
   ],
   "outputs": [],
   "metadata": {}
  },
  {
   "cell_type": "code",
   "execution_count": 10,
   "source": [
    "df.to_csv(\"Final_Property_Features_Data.csv\", index = False)"
   ],
   "outputs": [],
   "metadata": {}
  }
 ],
 "metadata": {
  "orig_nbformat": 4,
  "language_info": {
   "name": "python",
   "version": "3.9.13",
   "mimetype": "text/x-python",
   "codemirror_mode": {
    "name": "ipython",
    "version": 3
   },
   "pygments_lexer": "ipython3",
   "nbconvert_exporter": "python",
   "file_extension": ".py"
  },
  "kernelspec": {
   "name": "python3",
   "display_name": "Python 3.9.13 64-bit ('env_tf': conda)"
  },
  "interpreter": {
   "hash": "24e04ac6381ae14c7283d3039b3eae55e580ec44d8ad9834709c61b9be756f0a"
  }
 },
 "nbformat": 4,
 "nbformat_minor": 2
}