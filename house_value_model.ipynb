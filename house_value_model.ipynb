{
 "cells": [
  {
   "cell_type": "code",
   "execution_count": 262,
   "metadata": {},
   "outputs": [],
   "source": [
    "import pandas as pd\n",
    "from sklearn.preprocessing import MultiLabelBinarizer\n",
    "from sklearn.ensemble import RandomForestRegressor\n",
    "from sklearn.impute import SimpleImputer\n",
    "import ssl\n",
    "from bs4 import BeautifulSoup\n",
    "from urllib.request import Request, urlopen\n",
    "import numpy as np\n",
    "from sklearn import model_selection\n",
    "from sklearn.metrics import accuracy_score\n",
    "import matplotlib.pyplot as plt\n",
    "import seaborn as sns\n",
    "import math"
   ]
  },
  {
   "cell_type": "code",
   "execution_count": 263,
   "metadata": {},
   "outputs": [],
   "source": [
    "#reding inn csv files\n",
    "data = pd.read_csv(\"Property_Features_Data.csv\")"
   ]
  },
  {
   "cell_type": "code",
   "execution_count": 264,
   "metadata": {},
   "outputs": [
    {
     "data": {
      "text/html": [
       "<div>\n",
       "<style scoped>\n",
       "    .dataframe tbody tr th:only-of-type {\n",
       "        vertical-align: middle;\n",
       "    }\n",
       "\n",
       "    .dataframe tbody tr th {\n",
       "        vertical-align: top;\n",
       "    }\n",
       "\n",
       "    .dataframe thead th {\n",
       "        text-align: right;\n",
       "    }\n",
       "</style>\n",
       "<table border=\"1\" class=\"dataframe\">\n",
       "  <thead>\n",
       "    <tr style=\"text-align: right;\">\n",
       "      <th></th>\n",
       "      <th>Stories</th>\n",
       "      <th>beds</th>\n",
       "      <th>baths</th>\n",
       "      <th>price</th>\n",
       "      <th>Days on Market</th>\n",
       "      <th>Year Built</th>\n",
       "      <th>Lot Area</th>\n",
       "    </tr>\n",
       "  </thead>\n",
       "  <tbody>\n",
       "    <tr>\n",
       "      <th>Stories</th>\n",
       "      <td>1.000000</td>\n",
       "      <td>-0.258626</td>\n",
       "      <td>-0.158246</td>\n",
       "      <td>0.212304</td>\n",
       "      <td>-0.046551</td>\n",
       "      <td>0.286283</td>\n",
       "      <td>0.115920</td>\n",
       "    </tr>\n",
       "    <tr>\n",
       "      <th>beds</th>\n",
       "      <td>-0.258626</td>\n",
       "      <td>1.000000</td>\n",
       "      <td>0.847426</td>\n",
       "      <td>0.297495</td>\n",
       "      <td>0.296176</td>\n",
       "      <td>-0.113220</td>\n",
       "      <td>0.037632</td>\n",
       "    </tr>\n",
       "    <tr>\n",
       "      <th>baths</th>\n",
       "      <td>-0.158246</td>\n",
       "      <td>0.847426</td>\n",
       "      <td>1.000000</td>\n",
       "      <td>0.492749</td>\n",
       "      <td>0.426353</td>\n",
       "      <td>0.008939</td>\n",
       "      <td>-0.072616</td>\n",
       "    </tr>\n",
       "    <tr>\n",
       "      <th>price</th>\n",
       "      <td>0.212304</td>\n",
       "      <td>0.297495</td>\n",
       "      <td>0.492749</td>\n",
       "      <td>1.000000</td>\n",
       "      <td>0.186755</td>\n",
       "      <td>0.097627</td>\n",
       "      <td>-0.040941</td>\n",
       "    </tr>\n",
       "    <tr>\n",
       "      <th>Days on Market</th>\n",
       "      <td>-0.046551</td>\n",
       "      <td>0.296176</td>\n",
       "      <td>0.426353</td>\n",
       "      <td>0.186755</td>\n",
       "      <td>1.000000</td>\n",
       "      <td>0.088044</td>\n",
       "      <td>-0.052205</td>\n",
       "    </tr>\n",
       "    <tr>\n",
       "      <th>Year Built</th>\n",
       "      <td>0.286283</td>\n",
       "      <td>-0.113220</td>\n",
       "      <td>0.008939</td>\n",
       "      <td>0.097627</td>\n",
       "      <td>0.088044</td>\n",
       "      <td>1.000000</td>\n",
       "      <td>0.000932</td>\n",
       "    </tr>\n",
       "    <tr>\n",
       "      <th>Lot Area</th>\n",
       "      <td>0.115920</td>\n",
       "      <td>0.037632</td>\n",
       "      <td>-0.072616</td>\n",
       "      <td>-0.040941</td>\n",
       "      <td>-0.052205</td>\n",
       "      <td>0.000932</td>\n",
       "      <td>1.000000</td>\n",
       "    </tr>\n",
       "  </tbody>\n",
       "</table>\n",
       "</div>"
      ],
      "text/plain": [
       "                 Stories      beds     baths     price  Days on Market  \\\n",
       "Stories         1.000000 -0.258626 -0.158246  0.212304       -0.046551   \n",
       "beds           -0.258626  1.000000  0.847426  0.297495        0.296176   \n",
       "baths          -0.158246  0.847426  1.000000  0.492749        0.426353   \n",
       "price           0.212304  0.297495  0.492749  1.000000        0.186755   \n",
       "Days on Market -0.046551  0.296176  0.426353  0.186755        1.000000   \n",
       "Year Built      0.286283 -0.113220  0.008939  0.097627        0.088044   \n",
       "Lot Area        0.115920  0.037632 -0.072616 -0.040941       -0.052205   \n",
       "\n",
       "                Year Built  Lot Area  \n",
       "Stories           0.286283  0.115920  \n",
       "beds             -0.113220  0.037632  \n",
       "baths             0.008939 -0.072616  \n",
       "price             0.097627 -0.040941  \n",
       "Days on Market    0.088044 -0.052205  \n",
       "Year Built        1.000000  0.000932  \n",
       "Lot Area          0.000932  1.000000  "
      ]
     },
     "execution_count": 264,
     "metadata": {},
     "output_type": "execute_result"
    }
   ],
   "source": [
    "data.corr()"
   ]
  },
  {
   "cell_type": "code",
   "execution_count": 265,
   "metadata": {},
   "outputs": [],
   "source": [
    "data[\"Year Built\"] = data[\"Year Built\"] - 1849"
   ]
  },
  {
   "cell_type": "code",
   "execution_count": 266,
   "metadata": {},
   "outputs": [
    {
     "data": {
      "image/png": "[encoded data removed]",
      "text/plain": [
       "<Figure size 864x864 with 2 Axes>"
      ]
     },
     "metadata": {},
     "output_type": "display_data"
    }
   ],
   "source": [
    "fig = plt.figure(figsize=(12, 12))\n",
    "fig.patch.set_facecolor('white')\n",
    "feature_heatmap = sns.heatmap(data.corr(), cmap=\"Blues\", annot=True);\n",
    "\n",
    "feature_heatmap.set_title('Correlation Heatmap', fontdict={'fontsize':12}, pad=12);"
   ]
  },
  {
   "cell_type": "code",
   "execution_count": 267,
   "metadata": {},
   "outputs": [
    {
     "data": {
      "image/png": "[encoded data removed]",
      "text/plain": [
       "<Figure size 432x720 with 2 Axes>"
      ]
     },
     "metadata": {},
     "output_type": "display_data"
    }
   ],
   "source": [
    "data.corr()[['price']].sort_values(by='price', ascending=False)\n",
    "fig = plt.figure(figsize=(6, 10))\n",
    "fig.patch.set_facecolor('white')\n",
    "heatmap = sns.heatmap(data.corr()[['price']].sort_values(by='price', ascending=False), vmin=-1, vmax=1, annot=True, cmap='Greens')\n",
    "heatmap.set_title('Features Correlating with Sales Price', fontdict={'fontsize':18}, pad=16);\n"
   ]
  },
  {
   "cell_type": "code",
   "execution_count": 268,
   "metadata": {},
   "outputs": [],
   "source": [
    "#one hot encoding propery type\n",
    "one_hot_encode_property = pd.get_dummies(data[\"Property Type\"], prefix='Property')\n",
    "data = pd.concat([data, one_hot_encode_property ], axis=1).drop('Property Type', axis=1)"
   ]
  },
  {
   "cell_type": "code",
   "execution_count": 269,
   "metadata": {},
   "outputs": [],
   "source": [
    "#filling na cols with mean or median col values\n",
    "data['Stories'] = data['Stories'].fillna(data['Stories'].median())\n",
    "data['Lot Area'] = data['Lot Area'].fillna(data['Lot Area'].mean())\n",
    "data['beds'] = data['beds'].fillna(data['beds'].mean())\n",
    "data['baths'] = data['baths'].fillna(data['baths'].mean())\n",
    "data['Year Built'] = data['Year Built'].fillna(data['Year Built'].median())"
   ]
  },
  {
   "cell_type": "code",
   "execution_count": 270,
   "metadata": {},
   "outputs": [],
   "source": [
    "ctx = ssl.create_default_context()\n",
    "ctx.check_hostname = False\n",
    "ctx.verify_mode = ssl.CERT_NONE\n"
   ]
  },
  {
   "cell_type": "code",
   "execution_count": 271,
   "metadata": {},
   "outputs": [],
   "source": [
    "#not currently used\n",
    "#req = Request(url, headers={'User-Agent': 'Mozilla/5.0'})\n",
    "#webpage = urlopen(req).read()  \n",
    "#soup = BeautifulSoup(webpage, 'html.parser')\n",
    "#html = soup.prettify('utf-8')"
   ]
  },
  {
   "cell_type": "code",
   "execution_count": 272,
   "metadata": {},
   "outputs": [],
   "source": [
    "#Add Borough to each zip code for classification\n",
    "def return_neighborhood(zip):\n",
    "  borough = \"\"\n",
    "  if zip == \"NY\":\n",
    "    return \"Other NYC\"\n",
    "  if not math.isnan(float(zip)) and zip.isnumeric():\n",
    "    zip_code = int(zip)\n",
    "    if zip_code >= 10001 and zip_code <= 10282:\n",
    "      borough = \"Manhattan\"\n",
    "    elif zip_code >= 10301 and zip_code <= 10314:\n",
    "      borough = \"Staten Island\"\n",
    "    elif zip_code >= 10451 and zip_code <= 10475:\n",
    "      borough = \"Bronx\"\n",
    "    elif zip_code >= 11004 and zip_code <= 11109 or zip_code >= 11351 and zip_code <= 11697:\n",
    "      borough = \"Queens\"\n",
    "    elif zip_code >= 11201 and zip_code <= 11256:\n",
    "      borough = \"Brooklyn\"\n",
    "    else:\n",
    "      borough = \"Other NYC\"\n",
    "  return borough\n",
    "  "
   ]
  },
  {
   "cell_type": "code",
   "execution_count": 273,
   "metadata": {},
   "outputs": [],
   "source": [
    "data['Borough'] = data['Zip Code'].apply(return_neighborhood)"
   ]
  },
  {
   "cell_type": "code",
   "execution_count": 274,
   "metadata": {},
   "outputs": [
    {
     "data": {
      "text/plain": [
       "[266, 124, 110, 332, 275, 21]"
      ]
     },
     "execution_count": 274,
     "metadata": {},
     "output_type": "execute_result"
    }
   ],
   "source": [
    "boroughs = [\"Manhattan\", \"Staten Island\", \"Bronx\", \"Queens\", \"Brooklyn\", \"Other NYC\"]\n",
    "check = list(data[\"Borough\"]).count(\"Manhattan\")\n",
    "count_per_borough = [list(data[\"Borough\"]).count(\"Manhattan\"),\n",
    "                    list(data[\"Borough\"]).count(\"Staten Island\"), \n",
    "                    list(data[\"Borough\"]).count(\"Bronx\"), \n",
    "                    list(data[\"Borough\"]).count(\"Queens\"), \n",
    "                    list(data[\"Borough\"]).count(\"Brooklyn\"),\n",
    "                    list(data[\"Borough\"]).count(\"Other NYC\")]\n",
    "count_per_borough"
   ]
  },
  {
   "cell_type": "code",
   "execution_count": 275,
   "metadata": {},
   "outputs": [
    {
     "name": "stderr",
     "output_type": "stream",
     "text": [
      "/opt/anaconda3/lib/python3.8/site-packages/numpy/lib/histograms.py:839: RuntimeWarning: invalid value encountered in greater_equal\n",
      "  keep = (tmp_a >= first_edge)\n",
      "/opt/anaconda3/lib/python3.8/site-packages/numpy/lib/histograms.py:840: RuntimeWarning: invalid value encountered in less_equal\n",
      "  keep &= (tmp_a <= last_edge)\n"
     ]
    },
    {
     "data": {
      "image/png": "[encoded data removed]",
      "text/plain": [
       "<Figure size 432x288 with 1 Axes>"
      ]
     },
     "metadata": {
      "needs_background": "light"
     },
     "output_type": "display_data"
    }
   ],
   "source": [
    "fig = plt.hist(data[\"price\"])\n"
   ]
  },
  {
   "cell_type": "code",
   "execution_count": 276,
   "metadata": {},
   "outputs": [
    {
     "data": {
      "image/png": "[encoded data removed]",
      "text/plain": [
       "<Figure size 720x504 with 1 Axes>"
      ]
     },
     "metadata": {},
     "output_type": "display_data"
    }
   ],
   "source": [
    "# Creating plot\n",
    "fig = plt.figure(figsize =(10, 7))\n",
    "fig.patch.set_facecolor('white')\n",
    "plt.pie(count_per_borough, labels = boroughs)\n",
    "plt.title(\"Break Down of Listed Houses\")\n",
    "# show plot\n",
    "plt.show()"
   ]
  },
  {
   "cell_type": "code",
   "execution_count": 277,
   "metadata": {},
   "outputs": [],
   "source": [
    "house_price_by_borough = {\n",
    "  \"Manhattan\" : [], \"Staten Island\" : [], \"Bronx\" : [], \"Queens\" : [], \"Brooklyn\" : [], \"Other NYC\": []\n",
    "}\n",
    "too_expensive = []\n",
    "for num, row in data.iterrows():\n",
    "  if not math.isnan(row[\"price\"]):\n",
    "    if row[\"price\"] > 5000000:\n",
    "      too_expensive.append(row[\"price\"])\n",
    "    else:\n",
    "      house_price_by_borough[row[\"Borough\"]].append(row[\"price\"])\n"
   ]
  },
  {
   "cell_type": "code",
   "execution_count": 278,
   "metadata": {},
   "outputs": [
    {
     "data": {
      "text/plain": [
       "[358623498.0, 93561352.0, 44994368.0, 278074805.0, 385639927.0, 16553795.0]"
      ]
     },
     "execution_count": 278,
     "metadata": {},
     "output_type": "execute_result"
    }
   ],
   "source": [
    "[sum(arr) for (name, arr) in house_price_by_borough.items()]"
   ]
  },
  {
   "cell_type": "code",
   "execution_count": 279,
   "metadata": {},
   "outputs": [],
   "source": [
    "#code to create links to livability index\n",
    "search_link = \"https://livabilityindex.aarp.org/search/{borough},%20New%20York%20{zip_code},%20United%20States\"\n",
    "zip_to_score = {}\n",
    "for zip in set(data['Zip Code'].dropna()):\n",
    "  if zip.isnumeric():\n",
    "    borough = \"\"\n",
    "    zip_code = int(zip)\n",
    "    if zip_code >= 10001 and zip_code <= 10282:\n",
    "      borough = \"New%20York\"\n",
    "    elif zip_code >= 10301 and zip_code <= 10314:\n",
    "      borough = \"Staten%20Island\"\n",
    "    elif zip_code >= 10451 and zip_code <= 10475:\n",
    "      borough = \"Bronx\"\n",
    "    elif zip_code >= 11004 and zip_code <= 11109 or zip_code >= 11351 and zip_code <= 11697:\n",
    "      borough = \"Queens\"\n",
    "    else:\n",
    "      borough = \"Brooklyn\"\n",
    "    \n",
    "    new_link = search_link.format(borough = borough, zip_code = zip_code)\n",
    "    zip_to_score[zip_code] = new_link\n",
    "    "
   ]
  },
  {
   "cell_type": "code",
   "execution_count": 280,
   "metadata": {},
   "outputs": [
    {
     "data": {
      "text/plain": [
       "<matplotlib.legend.Legend at 0x7fb9cb2ab670>"
      ]
     },
     "execution_count": 280,
     "metadata": {},
     "output_type": "execute_result"
    },
    {
     "data": {
      "image/png": "[encoded data removed]",
      "text/plain": [
       "<Figure size 2160x1440 with 6 Axes>"
      ]
     },
     "metadata": {
      "needs_background": "light"
     },
     "output_type": "display_data"
    }
   ],
   "source": [
    "#NEED TO BE FORMATTED BETTER\n",
    "\n",
    "fig, ax = plt.subplots(2,3, figsize=[30, 20], sharex = True, sharey = True)\n",
    "[ax[1,i].set_xlabel(\"Price\", fontsize=15) for i in range(3)]\n",
    "[ax[i,0].set_ylabel(\"Amount\", fontsize=15) for i in range(2)]\n",
    "ax[0, 0].set_title(\"Manhattan Housing Distribution\", fontsize=20); ax[0,0].hist(house_price_by_borough[\"Manhattan\"], bins=30, density=True); ax[0,0].axvline(np.mean(house_price_by_borough[\"Manhattan\"]), ls=\"--\",c=\"orange\"); ax[0,0].legend([\"mean = \" + str(round(np.mean(house_price_by_borough[\"Manhattan\"]), 3))])\n",
    "ax[0, 1].set_title(\"Staten Island Housing Distribution\", fontsize=20); ax[0,1].hist(house_price_by_borough[\"Staten Island\"], bins=30, density=True); ax[0,1].axvline(np.mean(house_price_by_borough[\"Staten Island\"]), ls=\"--\",c=\"orange\"); ax[0,1].legend([\"mean = \" + str(round(np.mean(house_price_by_borough[\"Staten Island\"]), 3))])\n",
    "ax[0, 2].set_title(\"Bronx Housing Distribution\", fontsize=20); ax[0,2].hist(house_price_by_borough[\"Bronx\"], bins=30, density=True); ax[0,2].axvline(np.mean(house_price_by_borough[\"Bronx\"]), ls=\"--\",c=\"orange\"); ax[0,2].legend([\"mean = \" + str(round(np.mean(house_price_by_borough[\"Bronx\"]), 3))])\n",
    "ax[1, 0].set_title(\"Queens Housing Distribution\", fontsize=20); ax[1,0].hist(house_price_by_borough[\"Queens\"], bins=30, density=True); ax[1,0].axvline(np.mean(house_price_by_borough[\"Queens\"]), ls=\"--\",c=\"orange\"); ax[1,0].legend([\"mean = \" + str(round(np.mean(house_price_by_borough[\"Queens\"]), 3))])\n",
    "ax[1, 1].set_title(\"Brooklyn Housing Distribution\", fontsize=20); ax[1,1].hist(house_price_by_borough[\"Brooklyn\"], bins=30, density=True); ax[1,1].axvline(np.mean(house_price_by_borough[\"Brooklyn\"]), ls=\"--\",c=\"orange\"); ax[1,1].legend([\"mean = \" + str(round(np.mean(house_price_by_borough[\"Brooklyn\"]), 3))])\n",
    "ax[1, 2].set_title(\"Other NYC Housing Distribution\", fontsize=20); ax[1,2].hist(house_price_by_borough[\"Other NYC\"], bins=30, density=True); ax[1,2].axvline(np.mean(house_price_by_borough[\"Other NYC\"]), ls=\"--\",c=\"orange\"); ax[1,2].legend([\"mean = \" + str(round(np.mean(house_price_by_borough[\"Other NYC\"]), 3))])"
   ]
  },
  {
   "cell_type": "code",
   "execution_count": 281,
   "metadata": {},
   "outputs": [],
   "source": [
    "#one hot encoding borough\n",
    "one_hot_encode_property = pd.get_dummies(data[\"Borough\"], prefix='Borough')\n",
    "data = pd.concat([data, one_hot_encode_property ], axis=1).drop('Borough', axis=1)"
   ]
  },
  {
   "cell_type": "code",
   "execution_count": 282,
   "metadata": {},
   "outputs": [
    {
     "data": {
      "text/html": [
       "<div>\n",
       "<style scoped>\n",
       "    .dataframe tbody tr th:only-of-type {\n",
       "        vertical-align: middle;\n",
       "    }\n",
       "\n",
       "    .dataframe tbody tr th {\n",
       "        vertical-align: top;\n",
       "    }\n",
       "\n",
       "    .dataframe thead th {\n",
       "        text-align: right;\n",
       "    }\n",
       "</style>\n",
       "<table border=\"1\" class=\"dataframe\">\n",
       "  <thead>\n",
       "    <tr style=\"text-align: right;\">\n",
       "      <th></th>\n",
       "      <th>links</th>\n",
       "      <th>Stories</th>\n",
       "      <th>beds</th>\n",
       "      <th>baths</th>\n",
       "      <th>price</th>\n",
       "      <th>Zip Code</th>\n",
       "      <th>Days on Market</th>\n",
       "      <th>Year Built</th>\n",
       "      <th>Lot Area</th>\n",
       "      <th>Property_ Apartment</th>\n",
       "      <th>...</th>\n",
       "      <th>Property_ Residential Income</th>\n",
       "      <th>Property_ Single Family Home</th>\n",
       "      <th>Property_ Townhouse</th>\n",
       "      <th>Borough_</th>\n",
       "      <th>Borough_Bronx</th>\n",
       "      <th>Borough_Brooklyn</th>\n",
       "      <th>Borough_Manhattan</th>\n",
       "      <th>Borough_Other NYC</th>\n",
       "      <th>Borough_Queens</th>\n",
       "      <th>Borough_Staten Island</th>\n",
       "    </tr>\n",
       "  </thead>\n",
       "  <tbody>\n",
       "    <tr>\n",
       "      <th>0</th>\n",
       "      <td>https://www.trulia.com/p/ny/new-york/375-w-end...</td>\n",
       "      <td>12.0</td>\n",
       "      <td>5.0</td>\n",
       "      <td>4.0</td>\n",
       "      <td>5797000.0</td>\n",
       "      <td>10024</td>\n",
       "      <td>1.0</td>\n",
       "      <td>63.0</td>\n",
       "      <td>7662.000000</td>\n",
       "      <td>0</td>\n",
       "      <td>...</td>\n",
       "      <td>0</td>\n",
       "      <td>0</td>\n",
       "      <td>0</td>\n",
       "      <td>0</td>\n",
       "      <td>0</td>\n",
       "      <td>0</td>\n",
       "      <td>1</td>\n",
       "      <td>0</td>\n",
       "      <td>0</td>\n",
       "      <td>0</td>\n",
       "    </tr>\n",
       "    <tr>\n",
       "      <th>1</th>\n",
       "      <td>https://www.trulia.com/p/ny/flushing/13910-28t...</td>\n",
       "      <td>6.0</td>\n",
       "      <td>2.0</td>\n",
       "      <td>1.0</td>\n",
       "      <td>358000.0</td>\n",
       "      <td>11354</td>\n",
       "      <td>7.0</td>\n",
       "      <td>103.0</td>\n",
       "      <td>226512.000000</td>\n",
       "      <td>0</td>\n",
       "      <td>...</td>\n",
       "      <td>0</td>\n",
       "      <td>0</td>\n",
       "      <td>0</td>\n",
       "      <td>0</td>\n",
       "      <td>0</td>\n",
       "      <td>0</td>\n",
       "      <td>0</td>\n",
       "      <td>0</td>\n",
       "      <td>1</td>\n",
       "      <td>0</td>\n",
       "    </tr>\n",
       "    <tr>\n",
       "      <th>2</th>\n",
       "      <td>https://www.trulia.com/p/ny/flushing/14931-45t...</td>\n",
       "      <td>2.0</td>\n",
       "      <td>6.0</td>\n",
       "      <td>4.0</td>\n",
       "      <td>1950000.0</td>\n",
       "      <td>11355</td>\n",
       "      <td>11.0</td>\n",
       "      <td>66.0</td>\n",
       "      <td>4000.000000</td>\n",
       "      <td>0</td>\n",
       "      <td>...</td>\n",
       "      <td>1</td>\n",
       "      <td>0</td>\n",
       "      <td>0</td>\n",
       "      <td>0</td>\n",
       "      <td>0</td>\n",
       "      <td>0</td>\n",
       "      <td>0</td>\n",
       "      <td>0</td>\n",
       "      <td>1</td>\n",
       "      <td>0</td>\n",
       "    </tr>\n",
       "    <tr>\n",
       "      <th>3</th>\n",
       "      <td>https://www.trulia.com/p/ny/staten-island/362-...</td>\n",
       "      <td>2.0</td>\n",
       "      <td>4.0</td>\n",
       "      <td>2.0</td>\n",
       "      <td>159000.0</td>\n",
       "      <td>10301</td>\n",
       "      <td>12.0</td>\n",
       "      <td>66.0</td>\n",
       "      <td>3001.000000</td>\n",
       "      <td>0</td>\n",
       "      <td>...</td>\n",
       "      <td>0</td>\n",
       "      <td>0</td>\n",
       "      <td>0</td>\n",
       "      <td>0</td>\n",
       "      <td>0</td>\n",
       "      <td>0</td>\n",
       "      <td>0</td>\n",
       "      <td>0</td>\n",
       "      <td>0</td>\n",
       "      <td>1</td>\n",
       "    </tr>\n",
       "    <tr>\n",
       "      <th>4</th>\n",
       "      <td>https://www.trulia.com/p/ny/bronx/2016-marmion...</td>\n",
       "      <td>2.0</td>\n",
       "      <td>1.0</td>\n",
       "      <td>1.0</td>\n",
       "      <td>85000.0</td>\n",
       "      <td>10460</td>\n",
       "      <td>6.0</td>\n",
       "      <td>82.0</td>\n",
       "      <td>38537.693726</td>\n",
       "      <td>0</td>\n",
       "      <td>...</td>\n",
       "      <td>0</td>\n",
       "      <td>0</td>\n",
       "      <td>0</td>\n",
       "      <td>0</td>\n",
       "      <td>1</td>\n",
       "      <td>0</td>\n",
       "      <td>0</td>\n",
       "      <td>0</td>\n",
       "      <td>0</td>\n",
       "      <td>0</td>\n",
       "    </tr>\n",
       "    <tr>\n",
       "      <th>...</th>\n",
       "      <td>...</td>\n",
       "      <td>...</td>\n",
       "      <td>...</td>\n",
       "      <td>...</td>\n",
       "      <td>...</td>\n",
       "      <td>...</td>\n",
       "      <td>...</td>\n",
       "      <td>...</td>\n",
       "      <td>...</td>\n",
       "      <td>...</td>\n",
       "      <td>...</td>\n",
       "      <td>...</td>\n",
       "      <td>...</td>\n",
       "      <td>...</td>\n",
       "      <td>...</td>\n",
       "      <td>...</td>\n",
       "      <td>...</td>\n",
       "      <td>...</td>\n",
       "      <td>...</td>\n",
       "      <td>...</td>\n",
       "      <td>...</td>\n",
       "    </tr>\n",
       "    <tr>\n",
       "      <th>1128</th>\n",
       "      <td>https://www.trulia.com/p/ny/brooklyn/2048-ralp...</td>\n",
       "      <td>3.0</td>\n",
       "      <td>10.0</td>\n",
       "      <td>6.0</td>\n",
       "      <td>1350000.0</td>\n",
       "      <td>11234</td>\n",
       "      <td>1.0</td>\n",
       "      <td>125.0</td>\n",
       "      <td>3583.000000</td>\n",
       "      <td>0</td>\n",
       "      <td>...</td>\n",
       "      <td>0</td>\n",
       "      <td>0</td>\n",
       "      <td>0</td>\n",
       "      <td>0</td>\n",
       "      <td>0</td>\n",
       "      <td>1</td>\n",
       "      <td>0</td>\n",
       "      <td>0</td>\n",
       "      <td>0</td>\n",
       "      <td>0</td>\n",
       "    </tr>\n",
       "    <tr>\n",
       "      <th>1129</th>\n",
       "      <td>https://www.trulia.com/p/ny/staten-island/131-...</td>\n",
       "      <td>2.0</td>\n",
       "      <td>3.0</td>\n",
       "      <td>2.0</td>\n",
       "      <td>739000.0</td>\n",
       "      <td>10314</td>\n",
       "      <td>1.0</td>\n",
       "      <td>71.0</td>\n",
       "      <td>3600.000000</td>\n",
       "      <td>0</td>\n",
       "      <td>...</td>\n",
       "      <td>0</td>\n",
       "      <td>0</td>\n",
       "      <td>0</td>\n",
       "      <td>0</td>\n",
       "      <td>0</td>\n",
       "      <td>0</td>\n",
       "      <td>0</td>\n",
       "      <td>0</td>\n",
       "      <td>0</td>\n",
       "      <td>1</td>\n",
       "    </tr>\n",
       "    <tr>\n",
       "      <th>1130</th>\n",
       "      <td>https://www.trulia.com/p/ny/staten-island/246-...</td>\n",
       "      <td>2.0</td>\n",
       "      <td>3.0</td>\n",
       "      <td>2.0</td>\n",
       "      <td>689000.0</td>\n",
       "      <td>10306</td>\n",
       "      <td>1.0</td>\n",
       "      <td>101.0</td>\n",
       "      <td>4000.000000</td>\n",
       "      <td>0</td>\n",
       "      <td>...</td>\n",
       "      <td>0</td>\n",
       "      <td>0</td>\n",
       "      <td>0</td>\n",
       "      <td>0</td>\n",
       "      <td>0</td>\n",
       "      <td>0</td>\n",
       "      <td>0</td>\n",
       "      <td>0</td>\n",
       "      <td>0</td>\n",
       "      <td>1</td>\n",
       "    </tr>\n",
       "    <tr>\n",
       "      <th>1131</th>\n",
       "      <td>https://www.trulia.com/p/ny/staten-island/7379...</td>\n",
       "      <td>2.0</td>\n",
       "      <td>3.0</td>\n",
       "      <td>3.0</td>\n",
       "      <td>1250000.0</td>\n",
       "      <td>10307</td>\n",
       "      <td>1.0</td>\n",
       "      <td>96.0</td>\n",
       "      <td>16552.800000</td>\n",
       "      <td>0</td>\n",
       "      <td>...</td>\n",
       "      <td>0</td>\n",
       "      <td>0</td>\n",
       "      <td>0</td>\n",
       "      <td>0</td>\n",
       "      <td>0</td>\n",
       "      <td>0</td>\n",
       "      <td>0</td>\n",
       "      <td>0</td>\n",
       "      <td>0</td>\n",
       "      <td>1</td>\n",
       "    </tr>\n",
       "    <tr>\n",
       "      <th>1132</th>\n",
       "      <td>https://www.trulia.com/p/ny/brooklyn/2226-mcdo...</td>\n",
       "      <td>2.0</td>\n",
       "      <td>6.0</td>\n",
       "      <td>3.0</td>\n",
       "      <td>1225000.0</td>\n",
       "      <td>11223</td>\n",
       "      <td>1.0</td>\n",
       "      <td>82.0</td>\n",
       "      <td>871200.000000</td>\n",
       "      <td>1</td>\n",
       "      <td>...</td>\n",
       "      <td>0</td>\n",
       "      <td>0</td>\n",
       "      <td>0</td>\n",
       "      <td>0</td>\n",
       "      <td>0</td>\n",
       "      <td>1</td>\n",
       "      <td>0</td>\n",
       "      <td>0</td>\n",
       "      <td>0</td>\n",
       "      <td>0</td>\n",
       "    </tr>\n",
       "  </tbody>\n",
       "</table>\n",
       "<p>1133 rows × 25 columns</p>\n",
       "</div>"
      ],
      "text/plain": [
       "                                                  links  Stories  beds  baths  \\\n",
       "0     https://www.trulia.com/p/ny/new-york/375-w-end...     12.0   5.0    4.0   \n",
       "1     https://www.trulia.com/p/ny/flushing/13910-28t...      6.0   2.0    1.0   \n",
       "2     https://www.trulia.com/p/ny/flushing/14931-45t...      2.0   6.0    4.0   \n",
       "3     https://www.trulia.com/p/ny/staten-island/362-...      2.0   4.0    2.0   \n",
       "4     https://www.trulia.com/p/ny/bronx/2016-marmion...      2.0   1.0    1.0   \n",
       "...                                                 ...      ...   ...    ...   \n",
       "1128  https://www.trulia.com/p/ny/brooklyn/2048-ralp...      3.0  10.0    6.0   \n",
       "1129  https://www.trulia.com/p/ny/staten-island/131-...      2.0   3.0    2.0   \n",
       "1130  https://www.trulia.com/p/ny/staten-island/246-...      2.0   3.0    2.0   \n",
       "1131  https://www.trulia.com/p/ny/staten-island/7379...      2.0   3.0    3.0   \n",
       "1132  https://www.trulia.com/p/ny/brooklyn/2226-mcdo...      2.0   6.0    3.0   \n",
       "\n",
       "          price Zip Code  Days on Market  Year Built       Lot Area  \\\n",
       "0     5797000.0    10024             1.0        63.0    7662.000000   \n",
       "1      358000.0    11354             7.0       103.0  226512.000000   \n",
       "2     1950000.0    11355            11.0        66.0    4000.000000   \n",
       "3      159000.0    10301            12.0        66.0    3001.000000   \n",
       "4       85000.0    10460             6.0        82.0   38537.693726   \n",
       "...         ...      ...             ...         ...            ...   \n",
       "1128  1350000.0    11234             1.0       125.0    3583.000000   \n",
       "1129   739000.0    10314             1.0        71.0    3600.000000   \n",
       "1130   689000.0    10306             1.0       101.0    4000.000000   \n",
       "1131  1250000.0    10307             1.0        96.0   16552.800000   \n",
       "1132  1225000.0    11223             1.0        82.0  871200.000000   \n",
       "\n",
       "      Property_ Apartment  ...  Property_ Residential Income  \\\n",
       "0                       0  ...                             0   \n",
       "1                       0  ...                             0   \n",
       "2                       0  ...                             1   \n",
       "3                       0  ...                             0   \n",
       "4                       0  ...                             0   \n",
       "...                   ...  ...                           ...   \n",
       "1128                    0  ...                             0   \n",
       "1129                    0  ...                             0   \n",
       "1130                    0  ...                             0   \n",
       "1131                    0  ...                             0   \n",
       "1132                    1  ...                             0   \n",
       "\n",
       "      Property_ Single Family Home  Property_ Townhouse  Borough_  \\\n",
       "0                                0                    0         0   \n",
       "1                                0                    0         0   \n",
       "2                                0                    0         0   \n",
       "3                                0                    0         0   \n",
       "4                                0                    0         0   \n",
       "...                            ...                  ...       ...   \n",
       "1128                             0                    0         0   \n",
       "1129                             0                    0         0   \n",
       "1130                             0                    0         0   \n",
       "1131                             0                    0         0   \n",
       "1132                             0                    0         0   \n",
       "\n",
       "      Borough_Bronx  Borough_Brooklyn  Borough_Manhattan  Borough_Other NYC  \\\n",
       "0                 0                 0                  1                  0   \n",
       "1                 0                 0                  0                  0   \n",
       "2                 0                 0                  0                  0   \n",
       "3                 0                 0                  0                  0   \n",
       "4                 1                 0                  0                  0   \n",
       "...             ...               ...                ...                ...   \n",
       "1128              0                 1                  0                  0   \n",
       "1129              0                 0                  0                  0   \n",
       "1130              0                 0                  0                  0   \n",
       "1131              0                 0                  0                  0   \n",
       "1132              0                 1                  0                  0   \n",
       "\n",
       "      Borough_Queens  Borough_Staten Island  \n",
       "0                  0                      0  \n",
       "1                  1                      0  \n",
       "2                  1                      0  \n",
       "3                  0                      1  \n",
       "4                  0                      0  \n",
       "...              ...                    ...  \n",
       "1128               0                      0  \n",
       "1129               0                      1  \n",
       "1130               0                      1  \n",
       "1131               0                      1  \n",
       "1132               0                      0  \n",
       "\n",
       "[1133 rows x 25 columns]"
      ]
     },
     "execution_count": 282,
     "metadata": {},
     "output_type": "execute_result"
    }
   ],
   "source": [
    "data"
   ]
  },
  {
   "cell_type": "code",
   "execution_count": 283,
   "metadata": {},
   "outputs": [],
   "source": [
    "#binary encoding Zip Code\n",
    "mlb = MultiLabelBinarizer()\n",
    "zip_cols = mlb.fit_transform(data['Zip Code'].astype(str))\n",
    "zip_df = pd.DataFrame(zip_cols)\n",
    "zip_df.columns = [\"zip_1\",\"zip_2\",\"zip_3\",\"zip_4\",\"zip_5\",\"zip_6\",\"zip_7\",\"zip_8\",\"zip_9\",\"zip_10\",\"zip_11\",\"zip_12\",\"zip_13\",\"zip_14\"]\n",
    "data = pd.concat([data, zip_df], axis=1).drop('Zip Code', axis=1)"
   ]
  },
  {
   "cell_type": "code",
   "execution_count": 284,
   "metadata": {},
   "outputs": [],
   "source": [
    "#dropping rows with nan price values (only 4)\n",
    "data = data.dropna(subset=['price'])\n",
    "#removing outlier prices\n",
    "data = data[data['price'] < 1500000]"
   ]
  },
  {
   "cell_type": "code",
   "execution_count": 285,
   "metadata": {},
   "outputs": [
    {
     "ename": "TypeError",
     "evalue": "len() takes exactly one argument (0 given)",
     "output_type": "error",
     "traceback": [
      "\u001b[0;31m---------------------------------------------------------------------------\u001b[0m",
      "\u001b[0;31mTypeError\u001b[0m                                 Traceback (most recent call last)",
      "\u001b[0;32m<ipython-input-285-adf3103c7c3e>\u001b[0m in \u001b[0;36m<module>\u001b[0;34m\u001b[0m\n\u001b[0;32m----> 1\u001b[0;31m \u001b[0mlen\u001b[0m\u001b[0;34m(\u001b[0m\u001b[0;34m)\u001b[0m\u001b[0;34m\u001b[0m\u001b[0;34m\u001b[0m\u001b[0m\n\u001b[0m",
      "\u001b[0;31mTypeError\u001b[0m: len() takes exactly one argument (0 given)"
     ]
    }
   ],
   "source": [
    "len()"
   ]
  },
  {
   "cell_type": "code",
   "execution_count": null,
   "metadata": {},
   "outputs": [
    {
     "data": {
      "text/plain": [
       "(array([ 81.,  97.,  83., 110., 167., 113.,  55.,  69.,  73.,  30.]),\n",
       " array([  80000.,  221900.,  363800.,  505700.,  647600.,  789500.,\n",
       "         931400., 1073300., 1215200., 1357100., 1499000.]),\n",
       " <a list of 10 Patch objects>)"
      ]
     },
     "execution_count": 248,
     "metadata": {},
     "output_type": "execute_result"
    },
    {
     "data": {
      "image/png": "[encoded data removed]",
      "text/plain": [
       "<Figure size 432x288 with 1 Axes>"
      ]
     },
     "metadata": {
      "needs_background": "light"
     },
     "output_type": "display_data"
    }
   ],
   "source": [
    "plt.hist(data['price'])\n",
    "\n"
   ]
  },
  {
   "cell_type": "code",
   "execution_count": null,
   "metadata": {},
   "outputs": [],
   "source": [
    "x = data.loc[:, ~data.columns.isin(['price','links'])]\n",
    "y = data[\"price\"]"
   ]
  },
  {
   "cell_type": "code",
   "execution_count": null,
   "metadata": {},
   "outputs": [],
   "source": [
    "X_train, X_test, y_train, y_test = model_selection.train_test_split(x, y, train_size=0.8,test_size=0.2, random_state=0)"
   ]
  },
  {
   "cell_type": "code",
   "execution_count": null,
   "metadata": {},
   "outputs": [
    {
     "data": {
      "text/plain": [
       "RandomForestRegressor(n_estimators=75, random_state=0)"
      ]
     },
     "execution_count": 251,
     "metadata": {},
     "output_type": "execute_result"
    }
   ],
   "source": [
    "from sklearn.ensemble import RandomForestRegressor\n",
    "  \n",
    "regressor = RandomForestRegressor(n_estimators = 75, random_state = 0)\n",
    "  \n",
    "regressor.fit(X_train, y_train)  "
   ]
  },
  {
   "cell_type": "code",
   "execution_count": null,
   "metadata": {},
   "outputs": [],
   "source": [
    "y_pred_train = regressor.predict(X_train)\n",
    "y_pred_test = regressor.predict(X_test)"
   ]
  },
  {
   "cell_type": "code",
   "execution_count": null,
   "metadata": {},
   "outputs": [
    {
     "data": {
      "text/plain": [
       "Text(0.5, 1.0, 'True vs. Predicted House Prices')"
      ]
     },
     "execution_count": 256,
     "metadata": {},
     "output_type": "execute_result"
    },
    {
     "data": {
      "image/png": "[encoded data removed]",
      "text/plain": [
       "<Figure size 432x288 with 1 Axes>"
      ]
     },
     "metadata": {
      "needs_background": "light"
     },
     "output_type": "display_data"
    }
   ],
   "source": [
    "fig = plt.scatter(y_pred_test/1000000,y_test/1000000)\n",
    "plt.xlabel(\"Predicted Price (US Dollars / 100000)\")\n",
    "plt.ylabel(\"Actual Price (US Dollars / 100000)\")\n",
    "plt.title(\"True vs. Predicted House Prices\")\n"
   ]
  },
  {
   "cell_type": "code",
   "execution_count": null,
   "metadata": {},
   "outputs": [
    {
     "name": "stdout",
     "output_type": "stream",
     "text": [
      "Train AE : 41878.288\n",
      "Test AE : 113225.521\n",
      "Train R^2     : 0.961\n",
      "Test R^2     : 0.742\n"
     ]
    }
   ],
   "source": [
    "from sklearn.metrics import mean_absolute_error\n",
    "from sklearn.metrics import r2_score\n",
    "from sklearn.metrics import mean_squared_error\n",
    "print('Train AE : %.3f'%mean_absolute_error(y_train, y_pred_train))\n",
    "print('Test AE : %.3f'%mean_absolute_error(y_test, y_pred_test))\n",
    "\n",
    "print('Train R^2     : %.3f'%r2_score(y_train, y_pred_train))\n",
    "print('Test R^2     : %.3f'%r2_score(y_test, y_pred_test))"
   ]
  },
  {
   "cell_type": "code",
   "execution_count": null,
   "metadata": {},
   "outputs": [
    {
     "data": {
      "text/plain": [
       "Text(0.5, 1.0, 'Feature Importance')"
      ]
     },
     "execution_count": 259,
     "metadata": {},
     "output_type": "execute_result"
    },
    {
     "data": {
      "image/png": "[encoded data removed]",
      "text/plain": [
       "<Figure size 864x432 with 1 Axes>"
      ]
     },
     "metadata": {},
     "output_type": "display_data"
    }
   ],
   "source": [
    "feature_importance = regressor.feature_importances_\n",
    "sorted_idx = np.argsort(feature_importance)\n",
    "fig = plt.figure(figsize=(12, 6))\n",
    "fig.patch.set_facecolor('white')\n",
    "plt.barh(range(len(sorted_idx)), feature_importance[sorted_idx], align='center')\n",
    "plt.yticks(range(len(sorted_idx)), np.array(X_test.columns)[sorted_idx])\n",
    "plt.title('Feature Importance')"
   ]
  },
  {
   "cell_type": "code",
   "execution_count": 290,
   "metadata": {},
   "outputs": [],
   "source": [
    "data_dropped = data\n",
    "data_dropped = data_dropped.drop(['Lot Area', \"Stories\"],axis=1)"
   ]
  },
  {
   "cell_type": "code",
   "execution_count": 291,
   "metadata": {},
   "outputs": [
    {
     "data": {
      "text/html": [
       "<div>\n",
       "<style scoped>\n",
       "    .dataframe tbody tr th:only-of-type {\n",
       "        vertical-align: middle;\n",
       "    }\n",
       "\n",
       "    .dataframe tbody tr th {\n",
       "        vertical-align: top;\n",
       "    }\n",
       "\n",
       "    .dataframe thead th {\n",
       "        text-align: right;\n",
       "    }\n",
       "</style>\n",
       "<table border=\"1\" class=\"dataframe\">\n",
       "  <thead>\n",
       "    <tr style=\"text-align: right;\">\n",
       "      <th></th>\n",
       "      <th>links</th>\n",
       "      <th>beds</th>\n",
       "      <th>baths</th>\n",
       "      <th>price</th>\n",
       "      <th>Days on Market</th>\n",
       "      <th>Year Built</th>\n",
       "      <th>Property_ Apartment</th>\n",
       "      <th>Property_ Condo</th>\n",
       "      <th>Property_ Coop</th>\n",
       "      <th>Property_ Land</th>\n",
       "      <th>...</th>\n",
       "      <th>zip_5</th>\n",
       "      <th>zip_6</th>\n",
       "      <th>zip_7</th>\n",
       "      <th>zip_8</th>\n",
       "      <th>zip_9</th>\n",
       "      <th>zip_10</th>\n",
       "      <th>zip_11</th>\n",
       "      <th>zip_12</th>\n",
       "      <th>zip_13</th>\n",
       "      <th>zip_14</th>\n",
       "    </tr>\n",
       "  </thead>\n",
       "  <tbody>\n",
       "    <tr>\n",
       "      <th>1</th>\n",
       "      <td>https://www.trulia.com/p/ny/flushing/13910-28t...</td>\n",
       "      <td>2.0</td>\n",
       "      <td>1.0</td>\n",
       "      <td>358000.0</td>\n",
       "      <td>7.0</td>\n",
       "      <td>103.0</td>\n",
       "      <td>0</td>\n",
       "      <td>0</td>\n",
       "      <td>1</td>\n",
       "      <td>0</td>\n",
       "      <td>...</td>\n",
       "      <td>1</td>\n",
       "      <td>1</td>\n",
       "      <td>0</td>\n",
       "      <td>0</td>\n",
       "      <td>0</td>\n",
       "      <td>0</td>\n",
       "      <td>0</td>\n",
       "      <td>0</td>\n",
       "      <td>0</td>\n",
       "      <td>0</td>\n",
       "    </tr>\n",
       "    <tr>\n",
       "      <th>3</th>\n",
       "      <td>https://www.trulia.com/p/ny/staten-island/362-...</td>\n",
       "      <td>4.0</td>\n",
       "      <td>2.0</td>\n",
       "      <td>159000.0</td>\n",
       "      <td>12.0</td>\n",
       "      <td>66.0</td>\n",
       "      <td>0</td>\n",
       "      <td>0</td>\n",
       "      <td>0</td>\n",
       "      <td>0</td>\n",
       "      <td>...</td>\n",
       "      <td>0</td>\n",
       "      <td>0</td>\n",
       "      <td>0</td>\n",
       "      <td>0</td>\n",
       "      <td>0</td>\n",
       "      <td>0</td>\n",
       "      <td>0</td>\n",
       "      <td>0</td>\n",
       "      <td>0</td>\n",
       "      <td>0</td>\n",
       "    </tr>\n",
       "    <tr>\n",
       "      <th>4</th>\n",
       "      <td>https://www.trulia.com/p/ny/bronx/2016-marmion...</td>\n",
       "      <td>1.0</td>\n",
       "      <td>1.0</td>\n",
       "      <td>85000.0</td>\n",
       "      <td>6.0</td>\n",
       "      <td>82.0</td>\n",
       "      <td>0</td>\n",
       "      <td>0</td>\n",
       "      <td>0</td>\n",
       "      <td>0</td>\n",
       "      <td>...</td>\n",
       "      <td>1</td>\n",
       "      <td>0</td>\n",
       "      <td>1</td>\n",
       "      <td>0</td>\n",
       "      <td>0</td>\n",
       "      <td>0</td>\n",
       "      <td>0</td>\n",
       "      <td>0</td>\n",
       "      <td>0</td>\n",
       "      <td>0</td>\n",
       "    </tr>\n",
       "    <tr>\n",
       "      <th>5</th>\n",
       "      <td>https://www.trulia.com/p/ny/brooklyn/1558-e-19...</td>\n",
       "      <td>1.0</td>\n",
       "      <td>1.0</td>\n",
       "      <td>119000.0</td>\n",
       "      <td>11.0</td>\n",
       "      <td>91.0</td>\n",
       "      <td>0</td>\n",
       "      <td>0</td>\n",
       "      <td>1</td>\n",
       "      <td>0</td>\n",
       "      <td>...</td>\n",
       "      <td>0</td>\n",
       "      <td>0</td>\n",
       "      <td>0</td>\n",
       "      <td>0</td>\n",
       "      <td>0</td>\n",
       "      <td>0</td>\n",
       "      <td>0</td>\n",
       "      <td>0</td>\n",
       "      <td>0</td>\n",
       "      <td>0</td>\n",
       "    </tr>\n",
       "    <tr>\n",
       "      <th>6</th>\n",
       "      <td>https://www.trulia.com/p/ny/bronx/2922-barnes-...</td>\n",
       "      <td>1.0</td>\n",
       "      <td>1.0</td>\n",
       "      <td>119000.0</td>\n",
       "      <td>12.0</td>\n",
       "      <td>61.0</td>\n",
       "      <td>0</td>\n",
       "      <td>0</td>\n",
       "      <td>0</td>\n",
       "      <td>0</td>\n",
       "      <td>...</td>\n",
       "      <td>1</td>\n",
       "      <td>0</td>\n",
       "      <td>1</td>\n",
       "      <td>1</td>\n",
       "      <td>0</td>\n",
       "      <td>0</td>\n",
       "      <td>0</td>\n",
       "      <td>0</td>\n",
       "      <td>0</td>\n",
       "      <td>0</td>\n",
       "    </tr>\n",
       "    <tr>\n",
       "      <th>...</th>\n",
       "      <td>...</td>\n",
       "      <td>...</td>\n",
       "      <td>...</td>\n",
       "      <td>...</td>\n",
       "      <td>...</td>\n",
       "      <td>...</td>\n",
       "      <td>...</td>\n",
       "      <td>...</td>\n",
       "      <td>...</td>\n",
       "      <td>...</td>\n",
       "      <td>...</td>\n",
       "      <td>...</td>\n",
       "      <td>...</td>\n",
       "      <td>...</td>\n",
       "      <td>...</td>\n",
       "      <td>...</td>\n",
       "      <td>...</td>\n",
       "      <td>...</td>\n",
       "      <td>...</td>\n",
       "      <td>...</td>\n",
       "      <td>...</td>\n",
       "    </tr>\n",
       "    <tr>\n",
       "      <th>1128</th>\n",
       "      <td>https://www.trulia.com/p/ny/brooklyn/2048-ralp...</td>\n",
       "      <td>10.0</td>\n",
       "      <td>6.0</td>\n",
       "      <td>1350000.0</td>\n",
       "      <td>1.0</td>\n",
       "      <td>125.0</td>\n",
       "      <td>0</td>\n",
       "      <td>0</td>\n",
       "      <td>0</td>\n",
       "      <td>0</td>\n",
       "      <td>...</td>\n",
       "      <td>1</td>\n",
       "      <td>0</td>\n",
       "      <td>0</td>\n",
       "      <td>0</td>\n",
       "      <td>0</td>\n",
       "      <td>0</td>\n",
       "      <td>0</td>\n",
       "      <td>0</td>\n",
       "      <td>0</td>\n",
       "      <td>0</td>\n",
       "    </tr>\n",
       "    <tr>\n",
       "      <th>1129</th>\n",
       "      <td>https://www.trulia.com/p/ny/staten-island/131-...</td>\n",
       "      <td>3.0</td>\n",
       "      <td>2.0</td>\n",
       "      <td>739000.0</td>\n",
       "      <td>1.0</td>\n",
       "      <td>71.0</td>\n",
       "      <td>0</td>\n",
       "      <td>0</td>\n",
       "      <td>0</td>\n",
       "      <td>0</td>\n",
       "      <td>...</td>\n",
       "      <td>1</td>\n",
       "      <td>0</td>\n",
       "      <td>0</td>\n",
       "      <td>0</td>\n",
       "      <td>0</td>\n",
       "      <td>0</td>\n",
       "      <td>0</td>\n",
       "      <td>0</td>\n",
       "      <td>0</td>\n",
       "      <td>0</td>\n",
       "    </tr>\n",
       "    <tr>\n",
       "      <th>1130</th>\n",
       "      <td>https://www.trulia.com/p/ny/staten-island/246-...</td>\n",
       "      <td>3.0</td>\n",
       "      <td>2.0</td>\n",
       "      <td>689000.0</td>\n",
       "      <td>1.0</td>\n",
       "      <td>101.0</td>\n",
       "      <td>0</td>\n",
       "      <td>0</td>\n",
       "      <td>0</td>\n",
       "      <td>0</td>\n",
       "      <td>...</td>\n",
       "      <td>0</td>\n",
       "      <td>0</td>\n",
       "      <td>1</td>\n",
       "      <td>0</td>\n",
       "      <td>0</td>\n",
       "      <td>0</td>\n",
       "      <td>0</td>\n",
       "      <td>0</td>\n",
       "      <td>0</td>\n",
       "      <td>0</td>\n",
       "    </tr>\n",
       "    <tr>\n",
       "      <th>1131</th>\n",
       "      <td>https://www.trulia.com/p/ny/staten-island/7379...</td>\n",
       "      <td>3.0</td>\n",
       "      <td>3.0</td>\n",
       "      <td>1250000.0</td>\n",
       "      <td>1.0</td>\n",
       "      <td>96.0</td>\n",
       "      <td>0</td>\n",
       "      <td>0</td>\n",
       "      <td>0</td>\n",
       "      <td>0</td>\n",
       "      <td>...</td>\n",
       "      <td>0</td>\n",
       "      <td>0</td>\n",
       "      <td>0</td>\n",
       "      <td>1</td>\n",
       "      <td>0</td>\n",
       "      <td>0</td>\n",
       "      <td>0</td>\n",
       "      <td>0</td>\n",
       "      <td>0</td>\n",
       "      <td>0</td>\n",
       "    </tr>\n",
       "    <tr>\n",
       "      <th>1132</th>\n",
       "      <td>https://www.trulia.com/p/ny/brooklyn/2226-mcdo...</td>\n",
       "      <td>6.0</td>\n",
       "      <td>3.0</td>\n",
       "      <td>1225000.0</td>\n",
       "      <td>1.0</td>\n",
       "      <td>82.0</td>\n",
       "      <td>1</td>\n",
       "      <td>0</td>\n",
       "      <td>0</td>\n",
       "      <td>0</td>\n",
       "      <td>...</td>\n",
       "      <td>0</td>\n",
       "      <td>0</td>\n",
       "      <td>0</td>\n",
       "      <td>0</td>\n",
       "      <td>0</td>\n",
       "      <td>0</td>\n",
       "      <td>0</td>\n",
       "      <td>0</td>\n",
       "      <td>0</td>\n",
       "      <td>0</td>\n",
       "    </tr>\n",
       "  </tbody>\n",
       "</table>\n",
       "<p>878 rows × 36 columns</p>\n",
       "</div>"
      ],
      "text/plain": [
       "                                                  links  beds  baths  \\\n",
       "1     https://www.trulia.com/p/ny/flushing/13910-28t...   2.0    1.0   \n",
       "3     https://www.trulia.com/p/ny/staten-island/362-...   4.0    2.0   \n",
       "4     https://www.trulia.com/p/ny/bronx/2016-marmion...   1.0    1.0   \n",
       "5     https://www.trulia.com/p/ny/brooklyn/1558-e-19...   1.0    1.0   \n",
       "6     https://www.trulia.com/p/ny/bronx/2922-barnes-...   1.0    1.0   \n",
       "...                                                 ...   ...    ...   \n",
       "1128  https://www.trulia.com/p/ny/brooklyn/2048-ralp...  10.0    6.0   \n",
       "1129  https://www.trulia.com/p/ny/staten-island/131-...   3.0    2.0   \n",
       "1130  https://www.trulia.com/p/ny/staten-island/246-...   3.0    2.0   \n",
       "1131  https://www.trulia.com/p/ny/staten-island/7379...   3.0    3.0   \n",
       "1132  https://www.trulia.com/p/ny/brooklyn/2226-mcdo...   6.0    3.0   \n",
       "\n",
       "          price  Days on Market  Year Built  Property_ Apartment  \\\n",
       "1      358000.0             7.0       103.0                    0   \n",
       "3      159000.0            12.0        66.0                    0   \n",
       "4       85000.0             6.0        82.0                    0   \n",
       "5      119000.0            11.0        91.0                    0   \n",
       "6      119000.0            12.0        61.0                    0   \n",
       "...         ...             ...         ...                  ...   \n",
       "1128  1350000.0             1.0       125.0                    0   \n",
       "1129   739000.0             1.0        71.0                    0   \n",
       "1130   689000.0             1.0       101.0                    0   \n",
       "1131  1250000.0             1.0        96.0                    0   \n",
       "1132  1225000.0             1.0        82.0                    1   \n",
       "\n",
       "      Property_ Condo  Property_ Coop  Property_ Land  ...  zip_5  zip_6  \\\n",
       "1                   0               1               0  ...      1      1   \n",
       "3                   0               0               0  ...      0      0   \n",
       "4                   0               0               0  ...      1      0   \n",
       "5                   0               1               0  ...      0      0   \n",
       "6                   0               0               0  ...      1      0   \n",
       "...               ...             ...             ...  ...    ...    ...   \n",
       "1128                0               0               0  ...      1      0   \n",
       "1129                0               0               0  ...      1      0   \n",
       "1130                0               0               0  ...      0      0   \n",
       "1131                0               0               0  ...      0      0   \n",
       "1132                0               0               0  ...      0      0   \n",
       "\n",
       "      zip_7  zip_8  zip_9  zip_10  zip_11  zip_12  zip_13  zip_14  \n",
       "1         0      0      0       0       0       0       0       0  \n",
       "3         0      0      0       0       0       0       0       0  \n",
       "4         1      0      0       0       0       0       0       0  \n",
       "5         0      0      0       0       0       0       0       0  \n",
       "6         1      1      0       0       0       0       0       0  \n",
       "...     ...    ...    ...     ...     ...     ...     ...     ...  \n",
       "1128      0      0      0       0       0       0       0       0  \n",
       "1129      0      0      0       0       0       0       0       0  \n",
       "1130      1      0      0       0       0       0       0       0  \n",
       "1131      0      1      0       0       0       0       0       0  \n",
       "1132      0      0      0       0       0       0       0       0  \n",
       "\n",
       "[878 rows x 36 columns]"
      ]
     },
     "execution_count": 291,
     "metadata": {},
     "output_type": "execute_result"
    }
   ],
   "source": [
    "data_dropped"
   ]
  },
  {
   "cell_type": "code",
   "execution_count": 292,
   "metadata": {},
   "outputs": [],
   "source": [
    "x = np.array(data_dropped.loc[:, ~data_dropped.columns.isin(['price','links'])])\n",
    "y = np.array(data_dropped[\"price\"])"
   ]
  },
  {
   "cell_type": "code",
   "execution_count": 293,
   "metadata": {},
   "outputs": [],
   "source": [
    "X_train, X_test, y_train, y_test = model_selection.train_test_split(x, y, train_size=0.8,test_size=0.2, random_state=0)"
   ]
  },
  {
   "cell_type": "code",
   "execution_count": 294,
   "metadata": {},
   "outputs": [
    {
     "data": {
      "text/plain": [
       "RandomForestRegressor(n_estimators=75, random_state=0)"
      ]
     },
     "execution_count": 294,
     "metadata": {},
     "output_type": "execute_result"
    }
   ],
   "source": [
    "from sklearn.ensemble import RandomForestRegressor\n",
    "  \n",
    "regressor = RandomForestRegressor(n_estimators = 75, random_state = 0)\n",
    "  \n",
    "regressor.fit(X_train, y_train)  "
   ]
  },
  {
   "cell_type": "code",
   "execution_count": 295,
   "metadata": {},
   "outputs": [],
   "source": [
    "y_pred_train = regressor.predict(X_train)\n",
    "y_pred_test = regressor.predict(X_test)"
   ]
  },
  {
   "cell_type": "code",
   "execution_count": 296,
   "metadata": {},
   "outputs": [
    {
     "data": {
      "text/plain": [
       "Text(0.5, 1.0, 'True vs. Predicted House Prices')"
      ]
     },
     "execution_count": 296,
     "metadata": {},
     "output_type": "execute_result"
    },
    {
     "data": {
      "image/png": "[encoded data removed]",
      "text/plain": [
       "<Figure size 432x288 with 1 Axes>"
      ]
     },
     "metadata": {
      "needs_background": "light"
     },
     "output_type": "display_data"
    }
   ],
   "source": [
    "plt.scatter(y_pred_test/1000000,y_test/1000000)\n",
    "plt.xlabel(\"Predicted Price (US Dollars / 100000)\")\n",
    "plt.ylabel(\"Actual Price (US Dollars / 100000)\")\n",
    "plt.title(\"True vs. Predicted House Prices\")"
   ]
  },
  {
   "cell_type": "code",
   "execution_count": 297,
   "metadata": {},
   "outputs": [
    {
     "name": "stdout",
     "output_type": "stream",
     "text": [
      "Train AE : 44261.237\n",
      "Test AE : 121234.033\n",
      "Train R^2     : 0.949\n",
      "Test R^2     : 0.698\n"
     ]
    }
   ],
   "source": [
    "from sklearn.metrics import mean_absolute_error\n",
    "from sklearn.metrics import r2_score\n",
    "from sklearn.metrics import mean_squared_error\n",
    "print('Train AE : %.3f'%mean_absolute_error(y_train, y_pred_train))\n",
    "print('Test AE : %.3f'%mean_absolute_error(y_test, y_pred_test))\n",
    "\n",
    "print('Train R^2     : %.3f'%r2_score(y_train, y_pred_train))\n",
    "print('Test R^2     : %.3f'%r2_score(y_test, y_pred_test))"
   ]
  },
  {
   "cell_type": "code",
   "execution_count": null,
   "metadata": {},
   "outputs": [],
   "source": []
  }
 ],
 "metadata": {
  "interpreter": {
   "hash": "24e04ac6381ae14c7283d3039b3eae55e580ec44d8ad9834709c61b9be756f0a"
  },
  "kernelspec": {
   "display_name": "Python 3.9.13 64-bit ('env_tf': conda)",
   "name": "python3"
  },
  "language_info": {
   "codemirror_mode": {
    "name": "ipython",
    "version": 3
   },
   "file_extension": ".py",
   "mimetype": "text/x-python",
   "name": "python",
   "nbconvert_exporter": "python",
   "pygments_lexer": "ipython3",
   "version": "3.9.13"
  },
  "orig_nbformat": 4,
  "vscode": {
   "interpreter": {
    "hash": "40d3a090f54c6569ab1632332b64b2c03c39dcf918b08424e98f38b5ae0af88f"
   }
  }
 },
 "nbformat": 4,
 "nbformat_minor": 2
}
